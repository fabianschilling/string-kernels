{
 "cells": [
  {
   "cell_type": "code",
   "execution_count": 78,
   "metadata": {
    "collapsed": true
   },
   "outputs": [],
   "source": [
    "import operator\n",
    "import re\n",
    "from nltk.corpus import reuters, stopwords\n",
    "import cPickle as pickle"
   ]
  },
  {
   "cell_type": "code",
   "execution_count": 77,
   "metadata": {
    "collapsed": false
   },
   "outputs": [],
   "source": [
    "ACQ = 'acq'\n",
    "CORN = 'corn'\n",
    "CRUDE = 'crude'\n",
    "EARN = 'earn'\n",
    "\n",
    "TRAIN = 'train'\n",
    "TEST = 'test'\n",
    "\n",
    "categories = [ACQ, CORN, CRUDE, EARN]\n",
    "splits = [TRAIN, TEST]\n",
    "\n",
    "train_freqs = {\n",
    "    ACQ: 114,\n",
    "    CORN: 38,\n",
    "    CRUDE: 76,\n",
    "    EARN: 152\n",
    "}\n",
    "\n",
    "test_freqs = {\n",
    "    ACQ: 25,\n",
    "    CORN: 10,\n",
    "    CRUDE: 15,\n",
    "    EARN: 40\n",
    "}"
   ]
  },
  {
   "cell_type": "code",
   "execution_count": 22,
   "metadata": {
    "collapsed": false
   },
   "outputs": [
    {
     "name": "stdout",
     "output_type": "stream",
     "text": [
      "380\n"
     ]
    }
   ],
   "source": [
    "print(sum(train_freqs.values()))"
   ]
  },
  {
   "cell_type": "code",
   "execution_count": 23,
   "metadata": {
    "collapsed": false
   },
   "outputs": [
    {
     "name": "stdout",
     "output_type": "stream",
     "text": [
      "90\n"
     ]
    }
   ],
   "source": [
    "print(sum(test_freqs.values()))"
   ]
  },
  {
   "cell_type": "code",
   "execution_count": 25,
   "metadata": {
    "collapsed": false
   },
   "outputs": [
    {
     "name": "stdout",
     "output_type": "stream",
     "text": [
      "470\n"
     ]
    }
   ],
   "source": [
    "total = sum(train_freqs.values()) + sum(test_freqs.values())\n",
    "print(total)"
   ]
  },
  {
   "cell_type": "code",
   "execution_count": 9,
   "metadata": {
    "collapsed": false
   },
   "outputs": [
    {
     "name": "stdout",
     "output_type": "stream",
     "text": [
      "2369\n"
     ]
    }
   ],
   "source": [
    "acq_docs = [reuters.raw(fname) for fname in reuters.fileids('acq')]\n",
    "print(len(acq_docs))"
   ]
  },
  {
   "cell_type": "code",
   "execution_count": 11,
   "metadata": {
    "collapsed": false
   },
   "outputs": [
    {
     "name": "stdout",
     "output_type": "stream",
     "text": [
      "237\n"
     ]
    }
   ],
   "source": [
    "corn_docs = [reuters.raw(fname) for fname in reuters.fileids('corn')]\n",
    "print(len(corn_docs))"
   ]
  },
  {
   "cell_type": "code",
   "execution_count": 13,
   "metadata": {
    "collapsed": false
   },
   "outputs": [
    {
     "name": "stdout",
     "output_type": "stream",
     "text": [
      "578\n"
     ]
    }
   ],
   "source": [
    "crude_docs = [reuters.raw(fname) for fname in reuters.fileids('crude')]\n",
    "print(len(crude_docs))"
   ]
  },
  {
   "cell_type": "code",
   "execution_count": 15,
   "metadata": {
    "collapsed": false
   },
   "outputs": [
    {
     "name": "stdout",
     "output_type": "stream",
     "text": [
      "3964\n"
     ]
    }
   ],
   "source": [
    "earn_docs = [reuters.raw(fname) for fname in reuters.fileids('earn')]\n",
    "print(len(earn_docs))"
   ]
  },
  {
   "cell_type": "code",
   "execution_count": 92,
   "metadata": {
    "collapsed": true
   },
   "outputs": [],
   "source": [
    "def clean(raw_doc):\n",
    "    doc = raw_doc.lower()\n",
    "    doc = re.sub('[^a-z]', ' ', doc)\n",
    "    doc = re.sub(' +', ' ', doc)\n",
    "    word_list = doc.split(' ')\n",
    "    word_list = [word for word in word_list if word not in stopwords.words('english')]\n",
    "    clean_doc = ' '.join(word_list)\n",
    "    return clean_doc.strip()"
   ]
  },
  {
   "cell_type": "code",
   "execution_count": 53,
   "metadata": {
    "collapsed": true
   },
   "outputs": [],
   "source": [
    "def frequency_count(doc_list):\n",
    "    word_freqs = {}\n",
    "    for doc in doc_list:\n",
    "        clean_doc = clean(doc)\n",
    "        for word in clean_doc.split():\n",
    "            word = word.lower()\n",
    "            if word in word_freqs:\n",
    "                word_freqs[word] += 1\n",
    "            else:\n",
    "                word_freqs[word] = 0\n",
    "    return sorted(word_freqs.items(), key=operator.itemgetter(1), reverse=True)"
   ]
  },
  {
   "cell_type": "code",
   "execution_count": 54,
   "metadata": {
    "collapsed": false
   },
   "outputs": [],
   "source": [
    "acq_word_freqs = frequency_count(acq_docs)"
   ]
  },
  {
   "cell_type": "code",
   "execution_count": 63,
   "metadata": {
    "collapsed": false
   },
   "outputs": [
    {
     "data": {
      "text/plain": [
       "[(u'said', 7156),\n",
       " (u'lt', 3895),\n",
       " (u'dlrs', 2874),\n",
       " (u'company', 2384),\n",
       " (u'the', 2310),\n",
       " (u'mln', 2301),\n",
       " (u'shares', 2078),\n",
       " (u'inc', 2076),\n",
       " (u'pct', 1984),\n",
       " (u'corp', 1650)]"
      ]
     },
     "execution_count": 63,
     "metadata": {},
     "output_type": "execute_result"
    }
   ],
   "source": [
    "acq_word_freqs[:10]"
   ]
  },
  {
   "cell_type": "code",
   "execution_count": 56,
   "metadata": {
    "collapsed": true
   },
   "outputs": [],
   "source": [
    "corn_word_freqs = frequency_count(corn_docs)"
   ]
  },
  {
   "cell_type": "code",
   "execution_count": 62,
   "metadata": {
    "collapsed": false
   },
   "outputs": [
    {
     "data": {
      "text/plain": [
       "[(u'said', 696),\n",
       " (u'tonnes', 595),\n",
       " (u'corn', 575),\n",
       " (u'mln', 564),\n",
       " (u's', 483),\n",
       " (u'u', 482),\n",
       " (u'the', 400),\n",
       " (u'nil', 288),\n",
       " (u'pct', 288),\n",
       " (u'wheat', 260)]"
      ]
     },
     "execution_count": 62,
     "metadata": {},
     "output_type": "execute_result"
    }
   ],
   "source": [
    "corn_word_freqs[:10]"
   ]
  },
  {
   "cell_type": "code",
   "execution_count": 58,
   "metadata": {
    "collapsed": true
   },
   "outputs": [],
   "source": [
    "crude_word_freqs = frequency_count(crude_docs)"
   ]
  },
  {
   "cell_type": "code",
   "execution_count": 64,
   "metadata": {
    "collapsed": false
   },
   "outputs": [
    {
     "data": {
      "text/plain": [
       "[(u'said', 2425),\n",
       " (u'oil', 2245),\n",
       " (u'mln', 1017),\n",
       " (u'the', 898),\n",
       " (u'dlrs', 793),\n",
       " (u's', 667),\n",
       " (u'u', 649),\n",
       " (u'crude', 644),\n",
       " (u'pct', 584),\n",
       " (u'prices', 577)]"
      ]
     },
     "execution_count": 64,
     "metadata": {},
     "output_type": "execute_result"
    }
   ],
   "source": [
    "crude_word_freqs[:10]"
   ]
  },
  {
   "cell_type": "code",
   "execution_count": 65,
   "metadata": {
    "collapsed": true
   },
   "outputs": [],
   "source": [
    "earn_word_freqs = frequency_count(earn_docs)"
   ]
  },
  {
   "cell_type": "code",
   "execution_count": 66,
   "metadata": {
    "collapsed": false
   },
   "outputs": [
    {
     "data": {
      "text/plain": [
       "[(u'vs', 14140),\n",
       " (u'mln', 11506),\n",
       " (u'cts', 7949),\n",
       " (u'net', 6623),\n",
       " (u'dlrs', 6092),\n",
       " (u'loss', 4960),\n",
       " (u'shr', 4156),\n",
       " (u'lt', 4028),\n",
       " (u'said', 3450),\n",
       " (u'year', 3194)]"
      ]
     },
     "execution_count": 66,
     "metadata": {},
     "output_type": "execute_result"
    }
   ],
   "source": [
    "earn_word_freqs[:10]"
   ]
  },
  {
   "cell_type": "code",
   "execution_count": 67,
   "metadata": {
    "collapsed": false
   },
   "outputs": [
    {
     "data": {
      "text/plain": [
       "7769"
      ]
     },
     "execution_count": 67,
     "metadata": {},
     "output_type": "execute_result"
    }
   ],
   "source": [
    "train_doc_fnames = [fname for fname in reuters.fileids() if fname.startswith('train')]\n",
    "len(train_doc_fnames)"
   ]
  },
  {
   "cell_type": "code",
   "execution_count": 69,
   "metadata": {
    "collapsed": false
   },
   "outputs": [
    {
     "data": {
      "text/plain": [
       "3019"
      ]
     },
     "execution_count": 69,
     "metadata": {},
     "output_type": "execute_result"
    }
   ],
   "source": [
    "test_doc_fnames = [fname for fname in reuters.fileids() if fname.startswith('test')]\n",
    "len(test_doc_fnames)"
   ]
  },
  {
   "cell_type": "code",
   "execution_count": 81,
   "metadata": {
    "collapsed": true
   },
   "outputs": [],
   "source": [
    "ds = {}"
   ]
  },
  {
   "cell_type": "code",
   "execution_count": 91,
   "metadata": {
    "collapsed": false
   },
   "outputs": [
    {
     "name": "stdout",
     "output_type": "stream",
     "text": [
      "16-MAR-1987\n",
      "  16-MAR-1987\n",
      "\n",
      "\n",
      "('train', 'acq', 1650)\n",
      "('train', 'corn', 181)\n",
      "29-MAR-1987\n",
      "  29-MAR-1987\n",
      "\n",
      "\n",
      "12-MAR-1987\n",
      "  12-MAR-1987\n",
      "\n",
      "\n",
      "('train', 'crude', 389)\n",
      "30-MAR-1987\n",
      "  30-MAR-1987\n",
      "\n",
      "\n",
      "12-MAR-1987\n",
      "  12-MAR-1987\n",
      "\n",
      "\n",
      "12-MAR-1987\n",
      "  12-MAR-1987\n",
      "\n",
      "\n",
      "17-MAR-1987\n",
      "  17-MAR-1987\n",
      "\n",
      "\n",
      "18-MAR-1987\n",
      "  18-MAR-1987\n",
      "\n",
      "\n",
      "20-MAR-1987\n",
      "  20-MAR-1987\n",
      "\n",
      "\n",
      "20-MAR-1987\n",
      "  20-MAR-1987\n",
      "\n",
      "\n",
      "23-MAR-1987\n",
      "  23-MAR-1987\n",
      "\n",
      "\n",
      "25-MAR-1987\n",
      "  25-MAR-1987\n",
      "\n",
      "\n",
      "25-MAR-1987\n",
      "  25-MAR-1987\n",
      "\n",
      "\n",
      "('train', 'earn', 2877)\n",
      "19-OCT-1987\n",
      "  19-OCT-1987\n",
      "\n",
      "\n",
      "('test', 'acq', 719)\n",
      "('test', 'corn', 56)\n",
      "19-OCT-1987\n",
      "  19-OCT-1987\n",
      "\n",
      "\n",
      "('test', 'crude', 189)\n",
      "13-APR-1987\n",
      "  13-APR-1987\n",
      "\n",
      "\n",
      "13-APR-1987\n",
      "  13-APR-1987\n",
      "\n",
      "\n",
      "18-JUN-1987\n",
      "  18-JUN-1987\n",
      "\n",
      "\n",
      "20-OCT-1987\n",
      "  20-OCT-1987\n",
      "\n",
      "\n",
      "19-OCT-1987\n",
      "  19-OCT-1987\n",
      "\n",
      "\n",
      "19-OCT-1987\n",
      "  19-OCT-1987\n",
      "\n",
      "\n",
      "('test', 'earn', 1087)\n"
     ]
    }
   ],
   "source": [
    "for s in splits:\n",
    "    ds[s] = {}\n",
    "    for c in categories:\n",
    "        raw_docs = [reuters.raw(fn) for fn in reuters.fileids(c) if s in fn]\n",
    "        for d in raw_docs:\n",
    "            if len(d) < 30:\n",
    "                print(d)\n",
    "        ds[s][c] = raw_docs\n",
    "        print(s, c, len(ds[s][c]))"
   ]
  },
  {
   "cell_type": "code",
   "execution_count": 88,
   "metadata": {
    "collapsed": false
   },
   "outputs": [],
   "source": [
    "pickle.dump(ds, open('modeapte_full_raw.pkl', 'wb'))"
   ]
  },
  {
   "cell_type": "code",
   "execution_count": null,
   "metadata": {
    "collapsed": true
   },
   "outputs": [],
   "source": []
  }
 ],
 "metadata": {
  "kernelspec": {
   "display_name": "Python 2",
   "language": "python",
   "name": "python2"
  },
  "language_info": {
   "codemirror_mode": {
    "name": "ipython",
    "version": 2
   },
   "file_extension": ".py",
   "mimetype": "text/x-python",
   "name": "python",
   "nbconvert_exporter": "python",
   "pygments_lexer": "ipython2",
   "version": "2.7.13"
  }
 },
 "nbformat": 4,
 "nbformat_minor": 0
}
