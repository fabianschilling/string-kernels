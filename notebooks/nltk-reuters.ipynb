{
 "cells": [
  {
   "cell_type": "code",
   "execution_count": 1,
   "metadata": {
    "collapsed": true
   },
   "outputs": [],
   "source": [
    "import nltk\n",
    "from nltk import word_tokenize\n",
    "from nltk.corpus import reuters"
   ]
  },
  {
   "cell_type": "code",
   "execution_count": 2,
   "metadata": {
    "collapsed": true
   },
   "outputs": [],
   "source": [
    "# This version of the dataset has less documents than the paper suggests\n",
    "# Training: 7769 instead of 9603\n",
    "# Test: 3019 instead of 3299\n",
    "# This is because some documents had 0 categories assigned to them!\n",
    "\n",
    "# To get the Reuters-21578 ModApte split run\n",
    "# nltk.download()"
   ]
  },
  {
   "cell_type": "code",
   "execution_count": 3,
   "metadata": {
    "collapsed": false
   },
   "outputs": [
    {
     "name": "stdout",
     "output_type": "stream",
     "text": [
      "10788\n"
     ]
    }
   ],
   "source": [
    "all_files = reuters.fileids()\n",
    "print(len(all_files))"
   ]
  },
  {
   "cell_type": "code",
   "execution_count": 4,
   "metadata": {
    "collapsed": false
   },
   "outputs": [
    {
     "name": "stdout",
     "output_type": "stream",
     "text": [
      "7769\n"
     ]
    }
   ],
   "source": [
    "train_files = list(filter(lambda file: file.startswith('train'), all_files))\n",
    "print(len(train_files))"
   ]
  },
  {
   "cell_type": "code",
   "execution_count": 5,
   "metadata": {
    "collapsed": false
   },
   "outputs": [
    {
     "name": "stdout",
     "output_type": "stream",
     "text": [
      "3019\n"
     ]
    }
   ],
   "source": [
    "test_files = list(filter(lambda file: file.startswith('test'), all_files))\n",
    "print(len(test_files))"
   ]
  },
  {
   "cell_type": "code",
   "execution_count": 6,
   "metadata": {
    "collapsed": false
   },
   "outputs": [
    {
     "name": "stdout",
     "output_type": "stream",
     "text": [
      "90\n"
     ]
    }
   ],
   "source": [
    "categories = reuters.categories()\n",
    "print(len(categories))"
   ]
  },
  {
   "cell_type": "code",
   "execution_count": 7,
   "metadata": {
    "collapsed": false
   },
   "outputs": [
    {
     "name": "stdout",
     "output_type": "stream",
     "text": [
      "3964\n"
     ]
    }
   ],
   "source": [
    "# all docs about \"earn\"\n",
    "earn_docs = reuters.fileids('earn')\n",
    "print(len(earn_docs))"
   ]
  },
  {
   "cell_type": "code",
   "execution_count": 8,
   "metadata": {
    "collapsed": false
   },
   "outputs": [
    {
     "name": "stdout",
     "output_type": "stream",
     "text": [
      "2369\n"
     ]
    }
   ],
   "source": [
    "# all docs about \"acquisition\"\n",
    "acq_docs = reuters.fileids('acq')\n",
    "print(len(acq_docs))"
   ]
  },
  {
   "cell_type": "code",
   "execution_count": 9,
   "metadata": {
    "collapsed": false
   },
   "outputs": [
    {
     "name": "stdout",
     "output_type": "stream",
     "text": [
      "578\n"
     ]
    }
   ],
   "source": [
    "# all docs about \"crude\"\n",
    "crude_docs = reuters.fileids('crude')\n",
    "print(len(crude_docs))"
   ]
  },
  {
   "cell_type": "code",
   "execution_count": 10,
   "metadata": {
    "collapsed": false
   },
   "outputs": [
    {
     "name": "stdout",
     "output_type": "stream",
     "text": [
      "237\n"
     ]
    }
   ],
   "source": [
    "# all docs about \"corn\"\n",
    "corn_docs = reuters.fileids('corn')\n",
    "print(len(corn_docs))"
   ]
  },
  {
   "cell_type": "code",
   "execution_count": 11,
   "metadata": {
    "collapsed": false
   },
   "outputs": [],
   "source": [
    "# to get a raw document about crude\n",
    "document = reuters.raw(crude_docs[0])"
   ]
  },
  {
   "cell_type": "code",
   "execution_count": 12,
   "metadata": {
    "collapsed": false
   },
   "outputs": [
    {
     "data": {
      "text/plain": [
       "[u'JAPAN',\n",
       " u'TO',\n",
       " u'REVISE',\n",
       " u'LONG-TERM',\n",
       " u'ENERGY',\n",
       " u'DEMAND',\n",
       " u'DOWNWARDS',\n",
       " u'The',\n",
       " u'Ministry',\n",
       " u'of',\n",
       " u'International',\n",
       " u'Trade',\n",
       " u'and',\n",
       " u'Industry',\n",
       " u'(',\n",
       " u'MITI',\n",
       " u')',\n",
       " u'will',\n",
       " u'revise',\n",
       " u'its',\n",
       " u'long-term',\n",
       " u'energy',\n",
       " u'supply/demand',\n",
       " u'outlook',\n",
       " u'by',\n",
       " u'August',\n",
       " u'to',\n",
       " u'meet',\n",
       " u'a',\n",
       " u'forecast',\n",
       " u'downtrend',\n",
       " u'in',\n",
       " u'Japanese',\n",
       " u'energy',\n",
       " u'demand',\n",
       " u',',\n",
       " u'ministry',\n",
       " u'officials',\n",
       " u'said',\n",
       " u'.',\n",
       " u'MITI',\n",
       " u'is',\n",
       " u'expected',\n",
       " u'to',\n",
       " u'lower',\n",
       " u'the',\n",
       " u'projection',\n",
       " u'for',\n",
       " u'primary',\n",
       " u'energy',\n",
       " u'supplies',\n",
       " u'in',\n",
       " u'the',\n",
       " u'year',\n",
       " u'2000',\n",
       " u'to',\n",
       " u'550',\n",
       " u'mln',\n",
       " u'kilolitres',\n",
       " u'(',\n",
       " u'kl',\n",
       " u')',\n",
       " u'from',\n",
       " u'600',\n",
       " u'mln',\n",
       " u',',\n",
       " u'they',\n",
       " u'said',\n",
       " u'.',\n",
       " u'The',\n",
       " u'decision',\n",
       " u'follows',\n",
       " u'the',\n",
       " u'emergence',\n",
       " u'of',\n",
       " u'structural',\n",
       " u'changes',\n",
       " u'in',\n",
       " u'Japanese',\n",
       " u'industry',\n",
       " u'following',\n",
       " u'the',\n",
       " u'rise',\n",
       " u'in',\n",
       " u'the',\n",
       " u'value',\n",
       " u'of',\n",
       " u'the',\n",
       " u'yen',\n",
       " u'and',\n",
       " u'a',\n",
       " u'decline',\n",
       " u'in',\n",
       " u'domestic',\n",
       " u'electric',\n",
       " u'power',\n",
       " u'demand',\n",
       " u'.',\n",
       " u'MITI',\n",
       " u'is',\n",
       " u'planning',\n",
       " u'to',\n",
       " u'work',\n",
       " u'out',\n",
       " u'a',\n",
       " u'revised',\n",
       " u'energy',\n",
       " u'supply/demand',\n",
       " u'outlook',\n",
       " u'through',\n",
       " u'deliberations',\n",
       " u'of',\n",
       " u'committee',\n",
       " u'meetings',\n",
       " u'of',\n",
       " u'the',\n",
       " u'Agency',\n",
       " u'of',\n",
       " u'Natural',\n",
       " u'Resources',\n",
       " u'and',\n",
       " u'Energy',\n",
       " u',',\n",
       " u'the',\n",
       " u'officials',\n",
       " u'said',\n",
       " u'.',\n",
       " u'They',\n",
       " u'said',\n",
       " u'MITI',\n",
       " u'will',\n",
       " u'also',\n",
       " u'review',\n",
       " u'the',\n",
       " u'breakdown',\n",
       " u'of',\n",
       " u'energy',\n",
       " u'supply',\n",
       " u'sources',\n",
       " u',',\n",
       " u'including',\n",
       " u'oil',\n",
       " u',',\n",
       " u'nuclear',\n",
       " u',',\n",
       " u'coal',\n",
       " u'and',\n",
       " u'natural',\n",
       " u'gas',\n",
       " u'.',\n",
       " u'Nuclear',\n",
       " u'energy',\n",
       " u'provided',\n",
       " u'the',\n",
       " u'bulk',\n",
       " u'of',\n",
       " u'Japan',\n",
       " u\"'s\",\n",
       " u'electric',\n",
       " u'power',\n",
       " u'in',\n",
       " u'the',\n",
       " u'fiscal',\n",
       " u'year',\n",
       " u'ended',\n",
       " u'March',\n",
       " u'31',\n",
       " u',',\n",
       " u'supplying',\n",
       " u'an',\n",
       " u'estimated',\n",
       " u'27',\n",
       " u'pct',\n",
       " u'on',\n",
       " u'a',\n",
       " u'kilowatt/hour',\n",
       " u'basis',\n",
       " u',',\n",
       " u'followed',\n",
       " u'by',\n",
       " u'oil',\n",
       " u'(',\n",
       " u'23',\n",
       " u'pct',\n",
       " u')',\n",
       " u'and',\n",
       " u'liquefied',\n",
       " u'natural',\n",
       " u'gas',\n",
       " u'(',\n",
       " u'21',\n",
       " u'pct',\n",
       " u')',\n",
       " u',',\n",
       " u'they',\n",
       " u'noted',\n",
       " u'.']"
      ]
     },
     "execution_count": 12,
     "metadata": {},
     "output_type": "execute_result"
    }
   ],
   "source": [
    "word_tokenize(document)"
   ]
  }
 ],
 "metadata": {
  "anaconda-cloud": {},
  "kernelspec": {
   "display_name": "Python [conda root]",
   "language": "python",
   "name": "conda-root-py"
  },
  "language_info": {
   "codemirror_mode": {
    "name": "ipython",
    "version": 2
   },
   "file_extension": ".py",
   "mimetype": "text/x-python",
   "name": "python",
   "nbconvert_exporter": "python",
   "pygments_lexer": "ipython2",
   "version": "2.7.12"
  }
 },
 "nbformat": 4,
 "nbformat_minor": 0
}
