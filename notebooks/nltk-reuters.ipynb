{
 "cells": [
  {
   "cell_type": "code",
   "execution_count": 88,
   "metadata": {
    "collapsed": true
   },
   "outputs": [],
   "source": [
    "import nltk\n",
    "from nltk import word_tokenize\n",
    "from nltk.corpus import reuters"
   ]
  },
  {
   "cell_type": "code",
   "execution_count": 89,
   "metadata": {
    "collapsed": true
   },
   "outputs": [],
   "source": [
    "# This version of the dataset has less documents than the paper suggests\n",
    "# Training: 7769 instead of 9603\n",
    "# Test: 3019 instead of 3299\n",
    "# This is because some documents had 0 categories assigned to them!\n",
    "\n",
    "# To get the Reuters-21578 ModApte split run\n",
    "# nltk.download()"
   ]
  },
  {
   "cell_type": "code",
   "execution_count": 90,
   "metadata": {
    "collapsed": false
   },
   "outputs": [
    {
     "name": "stdout",
     "output_type": "stream",
     "text": [
      "10788\n"
     ]
    }
   ],
   "source": [
    "all_files = reuters.fileids()\n",
    "print(len(all_files))"
   ]
  },
  {
   "cell_type": "code",
   "execution_count": 91,
   "metadata": {
    "collapsed": false
   },
   "outputs": [
    {
     "name": "stdout",
     "output_type": "stream",
     "text": [
      "7769\n"
     ]
    }
   ],
   "source": [
    "train_files = list(filter(lambda file: file.startswith('train'), all_files))\n",
    "print(len(train_files))"
   ]
  },
  {
   "cell_type": "code",
   "execution_count": 92,
   "metadata": {
    "collapsed": false
   },
   "outputs": [
    {
     "name": "stdout",
     "output_type": "stream",
     "text": [
      "3019\n"
     ]
    }
   ],
   "source": [
    "test_files = list(filter(lambda file: file.startswith('test'), all_files))\n",
    "print(len(test_files))"
   ]
  },
  {
   "cell_type": "code",
   "execution_count": 93,
   "metadata": {
    "collapsed": false
   },
   "outputs": [
    {
     "name": "stdout",
     "output_type": "stream",
     "text": [
      "90\n"
     ]
    }
   ],
   "source": [
    "categories = reuters.categories()\n",
    "print(len(categories))"
   ]
  },
  {
   "cell_type": "code",
   "execution_count": 94,
   "metadata": {
    "collapsed": false
   },
   "outputs": [
    {
     "name": "stdout",
     "output_type": "stream",
     "text": [
      "3964\n"
     ]
    }
   ],
   "source": [
    "# all docs about \"earn\"\n",
    "earn_docs = reuters.fileids('earn')\n",
    "print(len(earn_docs))"
   ]
  },
  {
   "cell_type": "code",
   "execution_count": 95,
   "metadata": {
    "collapsed": false
   },
   "outputs": [
    {
     "name": "stdout",
     "output_type": "stream",
     "text": [
      "2369\n"
     ]
    }
   ],
   "source": [
    "# all docs about \"acquisition\"\n",
    "acq_docs = reuters.fileids('acq')\n",
    "print(len(acq_docs))"
   ]
  },
  {
   "cell_type": "code",
   "execution_count": 96,
   "metadata": {
    "collapsed": false
   },
   "outputs": [
    {
     "name": "stdout",
     "output_type": "stream",
     "text": [
      "578\n"
     ]
    }
   ],
   "source": [
    "# all docs about \"crude\"\n",
    "crude_docs = reuters.fileids('crude')\n",
    "print(len(crude_docs))"
   ]
  },
  {
   "cell_type": "code",
   "execution_count": 97,
   "metadata": {
    "collapsed": false
   },
   "outputs": [
    {
     "name": "stdout",
     "output_type": "stream",
     "text": [
      "237\n"
     ]
    }
   ],
   "source": [
    "# all docs about \"corn\"\n",
    "corn_docs = reuters.fileids('corn')\n",
    "print(len(corn_docs))"
   ]
  },
  {
   "cell_type": "code",
   "execution_count": 98,
   "metadata": {
    "collapsed": false
   },
   "outputs": [],
   "source": [
    "# to get a raw document about crude\n",
    "document = reuters.raw(crude_docs[0])"
   ]
  },
  {
   "cell_type": "code",
   "execution_count": 99,
   "metadata": {
    "collapsed": false
   },
   "outputs": [
    {
     "data": {
      "text/plain": [
       "['JAPAN',\n",
       " 'TO',\n",
       " 'REVISE',\n",
       " 'LONG-TERM',\n",
       " 'ENERGY',\n",
       " 'DEMAND',\n",
       " 'DOWNWARDS',\n",
       " 'The',\n",
       " 'Ministry',\n",
       " 'of',\n",
       " 'International',\n",
       " 'Trade',\n",
       " 'and',\n",
       " 'Industry',\n",
       " '(',\n",
       " 'MITI',\n",
       " ')',\n",
       " 'will',\n",
       " 'revise',\n",
       " 'its',\n",
       " 'long-term',\n",
       " 'energy',\n",
       " 'supply/demand',\n",
       " 'outlook',\n",
       " 'by',\n",
       " 'August',\n",
       " 'to',\n",
       " 'meet',\n",
       " 'a',\n",
       " 'forecast',\n",
       " 'downtrend',\n",
       " 'in',\n",
       " 'Japanese',\n",
       " 'energy',\n",
       " 'demand',\n",
       " ',',\n",
       " 'ministry',\n",
       " 'officials',\n",
       " 'said',\n",
       " '.',\n",
       " 'MITI',\n",
       " 'is',\n",
       " 'expected',\n",
       " 'to',\n",
       " 'lower',\n",
       " 'the',\n",
       " 'projection',\n",
       " 'for',\n",
       " 'primary',\n",
       " 'energy',\n",
       " 'supplies',\n",
       " 'in',\n",
       " 'the',\n",
       " 'year',\n",
       " '2000',\n",
       " 'to',\n",
       " '550',\n",
       " 'mln',\n",
       " 'kilolitres',\n",
       " '(',\n",
       " 'kl',\n",
       " ')',\n",
       " 'from',\n",
       " '600',\n",
       " 'mln',\n",
       " ',',\n",
       " 'they',\n",
       " 'said',\n",
       " '.',\n",
       " 'The',\n",
       " 'decision',\n",
       " 'follows',\n",
       " 'the',\n",
       " 'emergence',\n",
       " 'of',\n",
       " 'structural',\n",
       " 'changes',\n",
       " 'in',\n",
       " 'Japanese',\n",
       " 'industry',\n",
       " 'following',\n",
       " 'the',\n",
       " 'rise',\n",
       " 'in',\n",
       " 'the',\n",
       " 'value',\n",
       " 'of',\n",
       " 'the',\n",
       " 'yen',\n",
       " 'and',\n",
       " 'a',\n",
       " 'decline',\n",
       " 'in',\n",
       " 'domestic',\n",
       " 'electric',\n",
       " 'power',\n",
       " 'demand',\n",
       " '.',\n",
       " 'MITI',\n",
       " 'is',\n",
       " 'planning',\n",
       " 'to',\n",
       " 'work',\n",
       " 'out',\n",
       " 'a',\n",
       " 'revised',\n",
       " 'energy',\n",
       " 'supply/demand',\n",
       " 'outlook',\n",
       " 'through',\n",
       " 'deliberations',\n",
       " 'of',\n",
       " 'committee',\n",
       " 'meetings',\n",
       " 'of',\n",
       " 'the',\n",
       " 'Agency',\n",
       " 'of',\n",
       " 'Natural',\n",
       " 'Resources',\n",
       " 'and',\n",
       " 'Energy',\n",
       " ',',\n",
       " 'the',\n",
       " 'officials',\n",
       " 'said',\n",
       " '.',\n",
       " 'They',\n",
       " 'said',\n",
       " 'MITI',\n",
       " 'will',\n",
       " 'also',\n",
       " 'review',\n",
       " 'the',\n",
       " 'breakdown',\n",
       " 'of',\n",
       " 'energy',\n",
       " 'supply',\n",
       " 'sources',\n",
       " ',',\n",
       " 'including',\n",
       " 'oil',\n",
       " ',',\n",
       " 'nuclear',\n",
       " ',',\n",
       " 'coal',\n",
       " 'and',\n",
       " 'natural',\n",
       " 'gas',\n",
       " '.',\n",
       " 'Nuclear',\n",
       " 'energy',\n",
       " 'provided',\n",
       " 'the',\n",
       " 'bulk',\n",
       " 'of',\n",
       " 'Japan',\n",
       " \"'s\",\n",
       " 'electric',\n",
       " 'power',\n",
       " 'in',\n",
       " 'the',\n",
       " 'fiscal',\n",
       " 'year',\n",
       " 'ended',\n",
       " 'March',\n",
       " '31',\n",
       " ',',\n",
       " 'supplying',\n",
       " 'an',\n",
       " 'estimated',\n",
       " '27',\n",
       " 'pct',\n",
       " 'on',\n",
       " 'a',\n",
       " 'kilowatt/hour',\n",
       " 'basis',\n",
       " ',',\n",
       " 'followed',\n",
       " 'by',\n",
       " 'oil',\n",
       " '(',\n",
       " '23',\n",
       " 'pct',\n",
       " ')',\n",
       " 'and',\n",
       " 'liquefied',\n",
       " 'natural',\n",
       " 'gas',\n",
       " '(',\n",
       " '21',\n",
       " 'pct',\n",
       " ')',\n",
       " ',',\n",
       " 'they',\n",
       " 'noted',\n",
       " '.']"
      ]
     },
     "execution_count": 99,
     "metadata": {},
     "output_type": "execute_result"
    }
   ],
   "source": [
    "word_tokenize(document)"
   ]
  }
 ],
 "metadata": {
  "kernelspec": {
   "display_name": "Python 3",
   "language": "python",
   "name": "python3"
  },
  "language_info": {
   "codemirror_mode": {
    "name": "ipython",
    "version": 3
   },
   "file_extension": ".py",
   "mimetype": "text/x-python",
   "name": "python",
   "nbconvert_exporter": "python",
   "pygments_lexer": "ipython3",
   "version": "3.5.1"
  }
 },
 "nbformat": 4,
 "nbformat_minor": 0
}
