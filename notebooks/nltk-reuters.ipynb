{
 "cells": [
  {
   "cell_type": "code",
   "execution_count": 17,
   "metadata": {
    "collapsed": true
   },
   "outputs": [],
   "source": [
    "import nltk\n",
    "from nltk import word_tokenize\n",
    "from nltk.corpus import reuters\n",
    "\n",
    "from bs4 import BeautifulSoup             \n",
    "import re"
   ]
  },
  {
   "cell_type": "code",
   "execution_count": 2,
   "metadata": {
    "collapsed": true
   },
   "outputs": [],
   "source": [
    "# This version of the dataset has less documents than the paper suggests\n",
    "# Training: 7769 instead of 9603\n",
    "# Test: 3019 instead of 3299\n",
    "# This is because some documents had 0 categories assigned to them!\n",
    "\n",
    "# To get the Reuters-21578 ModApte split run\n",
    "# nltk.download()"
   ]
  },
  {
   "cell_type": "code",
   "execution_count": 3,
   "metadata": {
    "collapsed": false
   },
   "outputs": [
    {
     "name": "stdout",
     "output_type": "stream",
     "text": [
      "10788\n"
     ]
    }
   ],
   "source": [
    "all_files = reuters.fileids()\n",
    "print(len(all_files))"
   ]
  },
  {
   "cell_type": "code",
   "execution_count": 4,
   "metadata": {
    "collapsed": false
   },
   "outputs": [
    {
     "name": "stdout",
     "output_type": "stream",
     "text": [
      "7769\n"
     ]
    }
   ],
   "source": [
    "train_files = list(filter(lambda file: file.startswith('train'), all_files))\n",
    "print(len(train_files))"
   ]
  },
  {
   "cell_type": "code",
   "execution_count": 5,
   "metadata": {
    "collapsed": false
   },
   "outputs": [
    {
     "name": "stdout",
     "output_type": "stream",
     "text": [
      "3019\n"
     ]
    }
   ],
   "source": [
    "test_files = list(filter(lambda file: file.startswith('test'), all_files))\n",
    "print(len(test_files))"
   ]
  },
  {
   "cell_type": "code",
   "execution_count": 6,
   "metadata": {
    "collapsed": false
   },
   "outputs": [
    {
     "name": "stdout",
     "output_type": "stream",
     "text": [
      "90\n"
     ]
    }
   ],
   "source": [
    "categories = reuters.categories()\n",
    "print(len(categories))"
   ]
  },
  {
   "cell_type": "code",
   "execution_count": 7,
   "metadata": {
    "collapsed": false
   },
   "outputs": [
    {
     "name": "stdout",
     "output_type": "stream",
     "text": [
      "3964\n"
     ]
    }
   ],
   "source": [
    "# all docs about \"earn\"\n",
    "earn_docs = reuters.fileids('earn')\n",
    "print(len(earn_docs))"
   ]
  },
  {
   "cell_type": "code",
   "execution_count": 8,
   "metadata": {
    "collapsed": false
   },
   "outputs": [
    {
     "name": "stdout",
     "output_type": "stream",
     "text": [
      "2369\n"
     ]
    }
   ],
   "source": [
    "# all docs about \"acquisition\"\n",
    "acq_docs = reuters.fileids('acq')\n",
    "print(len(acq_docs))"
   ]
  },
  {
   "cell_type": "code",
   "execution_count": 9,
   "metadata": {
    "collapsed": false
   },
   "outputs": [
    {
     "name": "stdout",
     "output_type": "stream",
     "text": [
      "578\n"
     ]
    }
   ],
   "source": [
    "# all docs about \"crude\"\n",
    "crude_docs = reuters.fileids('crude')\n",
    "print(len(crude_docs))"
   ]
  },
  {
   "cell_type": "code",
   "execution_count": 10,
   "metadata": {
    "collapsed": false
   },
   "outputs": [
    {
     "name": "stdout",
     "output_type": "stream",
     "text": [
      "237\n"
     ]
    }
   ],
   "source": [
    "# all docs about \"corn\"\n",
    "corn_docs = reuters.fileids('corn')\n",
    "print(len(corn_docs))"
   ]
  },
  {
   "cell_type": "code",
   "execution_count": 11,
   "metadata": {
    "collapsed": false
   },
   "outputs": [],
   "source": [
    "# to get a raw document about crude\n",
    "document = reuters.raw(acq_docs[0])"
   ]
  },
  {
   "cell_type": "code",
   "execution_count": 18,
   "metadata": {
    "collapsed": false
   },
   "outputs": [
    {
     "name": "stdout",
     "output_type": "stream",
     "text": [
      "[u'SUMITOMO', u'BANK', u'AIMS', u'AT', u'QUICK', u'RECOVERY', u'FROM', u'MERGER', u'Sumitomo', u'Bank', u'Ltd', u'&', u'lt', u';', u'SUMI.T', u'>', u'is', u'certain', u'to', u'lose', u'its', u'status', u'as', u'Japan', u\"'s\", u'most', u'profitable', u'bank', u'as', u'a', u'result', u'of', u'its', u'merger', u'with', u'the', u'Heiwa', u'Sogo', u'Bank', u',', u'financial', u'analysts', u'said', u'.', u'Osaka-based', u'Sumitomo', u',', u'with', u'desposits', u'of', u'around', u'23.9', u'trillion', u'yen', u',', u'merged', u'with', u'Heiwa', u'Sogo', u',', u'a', u'small', u',', u'struggling', u'bank', u'with', u'an', u'estimated', u'1.29', u'billion', u'dlrs', u'in', u'unrecoverable', u'loans', u',', u'in', u'October', u'.', u'But', u'despite', u'the', u'link-up', u',', u'Sumitomo', u'President', u'Koh', u'Komatsu', u'told', u'Reuters', u'he', u'is', u'confident', u'his', u'bank', u'can', u'quickly', u'regain', u'its', u'position', u'.', u'``', u'We', u\"'ll\", u'be', u'back', u'in', u'position', u'in', u'first', u'place', u'within', u'three', u'years', u',', u\"''\", u'Komatsu', u'said', u'in', u'an', u'interview', u'.', u'He', u'said', u'that', u'while', u'the', u'merger', u'will', u'initially', u'reduce', u'Sumitomo', u\"'s\", u'profitability', u'and', u'efficiency', u',', u'it', u'will', u'vastly', u'expand', u'Sumitomo', u\"'s\", u'branch', u'network', u'in', u'the', u'Tokyo', u'metropolitan', u'area', u'where', u'it', u'has', u'been', u'relatively', u'weak', u'.', u'But', u'financial', u'analysts', u'are', u'divided', u'on', u'whether', u'and', u'how', u'quickly', u'the', u'gamble', u'will', u'pay', u'off', u'.', u'Some', u'said', u'Sumitomo', u'may', u'have', u'paid', u'too', u'much', u'for', u'Heiwa', u'Sogo', u'in', u'view', u'of', u'the', u'smaller', u'bank', u\"'s\", u'large', u'debts', u'.', u'Others', u'argue', u'the', u'merger', u'was', u'more', u'cost', u'effective', u'than', u'creating', u'a', u'comparable', u'branch', u'network', u'from', u'scratch', u'.', u'The', u'analysts', u'agreed', u'the', u'bank', u'was', u'aggressive', u'.', u'It', u'has', u'expanded', u'overseas', u',', u'entered', u'the', u'lucrative', u'securities', u'business', u'and', u'geared', u'up', u'for', u'domestic', u'competition', u',', u'but', u'they', u'questioned', u'the', u'wisdom', u'of', u'some', u'of', u'those', u'moves', u'.', u'``', u'They', u\"'ve\", u'made', u'bold', u'moves', u'to', u'put', u'everything', u'in', u'place', u'.', u'Now', u'it', u\"'s\", u'largely', u'out', u'of', u'their', u'hands', u',', u\"''\", u'said', u'Kleinwort', u'Benson', u'Ltd', u'financial', u'analyst', u'Simon', u'Smithson', u'.', u'Among', u'Sumitomo', u\"'s\", u'problems', u'are', u'limits', u'placed', u'on', u'its', u'move', u'to', u'enter', u'U.S.', u'Securities', u'business', u'by', u'taking', u'a', u'share', u'in', u'American', u'investment', u'bank', u'Goldman', u',', u'Sachs', u'and', u'Co.', u'Sumitomo', u'last', u'August', u'agreed', u'to', u'pay', u'500', u'mln', u'dlrs', u'for', u'a', u'12.5', u'pct', u'limited', u'partnership', u'in', u'the', u'bank', u',', u'but', u'for', u'the', u'time', u'being', u'at', u'least', u',', u'the', u'Federal', u'Reserve', u'Board', u'has', u'forbidden', u'them', u'to', u'exchange', u'personnel', u',', u'or', u'increase', u'the', u'business', u'they', u'do', u'with', u'each', u'other', u'.', u'``', u'The', u'tie-up', u'is', u'widely', u'looked', u'on', u'as', u'a', u'lame', u'duck', u'because', u'the', u'Fed', u'was', u'stricter', u'than', u'Sumitomo', u'expected', u',', u\"''\", u'said', u'one', u'analyst', u'.', u'But', u'Komatsu', u'said', u'the', u'move', u'will', u'pay', u'off', u'in', u'time', u'.', u'``', u'U.S', u'.', u'Regulations', u'will', u'change', u'in', u'the', u'near', u'future', u'and', u'if', u'so', u',', u'we', u'can', u'do', u'various', u'things', u'.', u'We', u'only', u'have', u'to', u'wait', u'two', u'or', u'three', u'years', u',', u'not', u'until', u'the', u'21st', u'century', u',', u\"''\", u'Komatsu', u'said', u'.', u'Komatsu', u'is', u'also', u'willing', u'to', u'be', u'patient', u'about', u'possible', u'routes', u'into', u'the', u'securities', u'business', u'at', u'home', u'.', u'Article', u'65', u'of', u'the', u'Securities', u'and', u'Exchange', u'Act', u',', u\"Japan's\", u'version', u'of', u'the', u'U.S.', u'Glass-Steagall', u'Act', u',', u'separates', u'commercial', u'from', u'investment', u'banking', u'.', u'But', u'the', u'walls', u'between', u'the', u'two', u'are', u'crumbling', u'and', u'Komatsu', u'said', u'he', u'hopes', u'further', u'deregulation', u'will', u'create', u'new', u'opportunities', u'.', u'``', u'We', u'need', u'to', u'find', u'new', u'business', u'chances', u',', u\"''\", u'Komatsu', u'said', u'.', u'``', u'In', u'some', u'cases', u'these', u'will', u'be', u'securities', u'related', u',', u'in', u'some', u'cases', u'trust', u'bank', u'related', u'.', u'That', u\"'s\", u'the', u'kind', u'of', u'deregulation', u'we', u'want', u'.', u\"''\", u'Until', u'such', u'changes', u'occur', u',', u'Sumitomo', u'will', u'focus', u'on', u'such', u'domestic', u'securities', u'business', u'as', u'profitable', u'government', u'bond', u'dealing', u'and', u'strengthening', u'relations', u'with', u'Meiko', u'Securities', u'Co', u'Ltd', u',', u'in', u'which', u'it', u'holds', u'a', u'five', u'pct', u'share', u',', u'Komatsu', u'said', u'.', u'He', u'said', u'Sumitomo', u'is', u'cautiously', u'optimistic', u'about', u'entering', u'the', u'securities', u'business', u'here', u'through', u'its', u'Swiss', u'universal', u'bank', u'subsidiary', u',', u'Banca', u'del', u'Gottardo', u'.', u'The', u'Finance', u'Ministry', u'is', u'expected', u'to', u'grant', u'licences', u'to', u'securities', u'subsidiaries', u'of', u'U.S.', u'Commercial', u'banks', u'soon', u',', u'following', u'a', u'similar', u'decision', u'for', u'subsidiaries', u'of', u'European', u'universal', u'banks', u'in', u'which', u'the', u'parent', u'holds', u'a', u'less', u'than', u'50', u'pct', u'.', u'But', u'Komatsu', u'is', u'reluctant', u'to', u'push', u'hard', u'for', u'a', u'similar', u'decision', u'on', u'a', u'Gottardo', u'subsidiary', u'.', u'``', u'We', u'do', u\"n't\", u'want', u'to', u'make', u'waves', u'.', u'We', u'expect', u'this', u'will', u'be', u'allowed', u'in', u'two', u'or', u'three', u'years', u',', u\"''\", u'he', u'said', u'.', u'Like', u'other', u'city', u'banks', u',', u'Sumitomo', u'is', u'also', u'pushing', u'to', u'expand', u'lending', u'to', u'individuals', u'and', u'small', u'and', u'medium', u'businesses', u'to', u'replace', u'disappearing', u'demand', u'from', u'big', u'business', u',', u'he', u'added', u'.', u'The', u'analysts', u'said', u'Sumitomo', u'will', u'have', u'to', u'devote', u'a', u'lot', u'of', u'time', u'to', u'digesting', u'its', u'most', u'recent', u'initiatives', u',', u'including', u'the', u'merger', u'with', u'ailing', u'Heiwa', u'Sogo', u'.', u'``', u'It', u\"'s\", u'(', u'Sumitomo', u')', u'been', u'bold', u'in', u'its', u'strategies', u',', u\"''\", u'said', u'Kleinwort', u\"'s\", u'Smithson', u'.', u'``', u'After', u'that', u',', u'it', u\"'s\", u'a', u'question', u'of', u'absorbing', u'and', u'juggling', u'around', u'.', u'It', u'will', u'be', u'the', u'next', u'decade', u'before', u'we', u'see', u'if', u'the', u'strategy', u'is', u'right', u'or', u'wrong', u'.', u\"''\"]\n",
      "----\n",
      "[u'SUMITOMO', u'BANK', u'AIMS', u'AT', u'QUICK', u'RECOVERY', u'FROM', u'MERGER', u'Sumitomo', u'Bank', u'Ltd', u'SUMI', u'T', u'is', u'certain', u'to', u'lose', u'its', u'status', u'as', u'Japan', u's', u'most', u'profitable', u'bank', u'as', u'a', u'result', u'of', u'its', u'merger', u'with', u'the', u'Heiwa', u'Sogo', u'Bank', u'financial', u'analysts', u'said', u'Osaka', u'based', u'Sumitomo', u'with', u'desposits', u'of', u'around', u'trillion', u'yen', u'merged', u'with', u'Heiwa', u'Sogo', u'a', u'small', u'struggling', u'bank', u'with', u'an', u'estimated', u'billion', u'dlrs', u'in', u'unrecoverable', u'loans', u'in', u'October', u'But', u'despite', u'the', u'link', u'up', u'Sumitomo', u'President', u'Koh', u'Komatsu', u'told', u'Reuters', u'he', u'is', u'confident', u'his', u'bank', u'can', u'quickly', u'regain', u'its', u'position', u'We', u'll', u'be', u'back', u'in', u'position', u'in', u'first', u'place', u'within', u'three', u'years', u'Komatsu', u'said', u'in', u'an', u'interview', u'He', u'said', u'that', u'while', u'the', u'merger', u'will', u'initially', u'reduce', u'Sumitomo', u's', u'profitability', u'and', u'efficiency', u'it', u'will', u'vastly', u'expand', u'Sumitomo', u's', u'branch', u'network', u'in', u'the', u'Tokyo', u'metropolitan', u'area', u'where', u'it', u'has', u'been', u'relatively', u'weak', u'But', u'financial', u'analysts', u'are', u'divided', u'on', u'whether', u'and', u'how', u'quickly', u'the', u'gamble', u'will', u'pay', u'off', u'Some', u'said', u'Sumitomo', u'may', u'have', u'paid', u'too', u'much', u'for', u'Heiwa', u'Sogo', u'in', u'view', u'of', u'the', u'smaller', u'bank', u's', u'large', u'debts', u'Others', u'argue', u'the', u'merger', u'was', u'more', u'cost', u'effective', u'than', u'creating', u'a', u'comparable', u'branch', u'network', u'from', u'scratch', u'The', u'analysts', u'agreed', u'the', u'bank', u'was', u'aggressive', u'It', u'has', u'expanded', u'overseas', u'entered', u'the', u'lucrative', u'securities', u'business', u'and', u'geared', u'up', u'for', u'domestic', u'competition', u'but', u'they', u'questioned', u'the', u'wisdom', u'of', u'some', u'of', u'those', u'moves', u'They', u've', u'made', u'bold', u'moves', u'to', u'put', u'everything', u'in', u'place', u'Now', u'it', u's', u'largely', u'out', u'of', u'their', u'hands', u'said', u'Kleinwort', u'Benson', u'Ltd', u'financial', u'analyst', u'Simon', u'Smithson', u'Among', u'Sumitomo', u's', u'problems', u'are', u'limits', u'placed', u'on', u'its', u'move', u'to', u'enter', u'U', u'S', u'Securities', u'business', u'by', u'taking', u'a', u'share', u'in', u'American', u'investment', u'bank', u'Goldman', u'Sachs', u'and', u'Co', u'Sumitomo', u'last', u'August', u'agreed', u'to', u'pay', u'mln', u'dlrs', u'for', u'a', u'pct', u'limited', u'partnership', u'in', u'the', u'bank', u'but', u'for', u'the', u'time', u'being', u'at', u'least', u'the', u'Federal', u'Reserve', u'Board', u'has', u'forbidden', u'them', u'to', u'exchange', u'personnel', u'or', u'increase', u'the', u'business', u'they', u'do', u'with', u'each', u'other', u'The', u'tie', u'up', u'is', u'widely', u'looked', u'on', u'as', u'a', u'lame', u'duck', u'because', u'the', u'Fed', u'was', u'stricter', u'than', u'Sumitomo', u'expected', u'said', u'one', u'analyst', u'But', u'Komatsu', u'said', u'the', u'move', u'will', u'pay', u'off', u'in', u'time', u'U', u'S', u'Regulations', u'will', u'change', u'in', u'the', u'near', u'future', u'and', u'if', u'so', u'we', u'can', u'do', u'various', u'things', u'We', u'only', u'have', u'to', u'wait', u'two', u'or', u'three', u'years', u'not', u'until', u'the', u'st', u'century', u'Komatsu', u'said', u'Komatsu', u'is', u'also', u'willing', u'to', u'be', u'patient', u'about', u'possible', u'routes', u'into', u'the', u'securities', u'business', u'at', u'home', u'Article', u'of', u'the', u'Securities', u'and', u'Exchange', u'Act', u'Japan', u's', u'version', u'of', u'the', u'U', u'S', u'Glass', u'Steagall', u'Act', u'separates', u'commercial', u'from', u'investment', u'banking', u'But', u'the', u'walls', u'between', u'the', u'two', u'are', u'crumbling', u'and', u'Komatsu', u'said', u'he', u'hopes', u'further', u'deregulation', u'will', u'create', u'new', u'opportunities', u'We', u'need', u'to', u'find', u'new', u'business', u'chances', u'Komatsu', u'said', u'In', u'some', u'cases', u'these', u'will', u'be', u'securities', u'related', u'in', u'some', u'cases', u'trust', u'bank', u'related', u'That', u's', u'the', u'kind', u'of', u'deregulation', u'we', u'want', u'Until', u'such', u'changes', u'occur', u'Sumitomo', u'will', u'focus', u'on', u'such', u'domestic', u'securities', u'business', u'as', u'profitable', u'government', u'bond', u'dealing', u'and', u'strengthening', u'relations', u'with', u'Meiko', u'Securities', u'Co', u'Ltd', u'in', u'which', u'it', u'holds', u'a', u'five', u'pct', u'share', u'Komatsu', u'said', u'He', u'said', u'Sumitomo', u'is', u'cautiously', u'optimistic', u'about', u'entering', u'the', u'securities', u'business', u'here', u'through', u'its', u'Swiss', u'universal', u'bank', u'subsidiary', u'Banca', u'del', u'Gottardo', u'The', u'Finance', u'Ministry', u'is', u'expected', u'to', u'grant', u'licences', u'to', u'securities', u'subsidiaries', u'of', u'U', u'S', u'Commercial', u'banks', u'soon', u'following', u'a', u'similar', u'decision', u'for', u'subsidiaries', u'of', u'European', u'universal', u'banks', u'in', u'which', u'the', u'parent', u'holds', u'a', u'less', u'than', u'pct', u'But', u'Komatsu', u'is', u'reluctant', u'to', u'push', u'hard', u'for', u'a', u'similar', u'decision', u'on', u'a', u'Gottardo', u'subsidiary', u'We', u'don', u't', u'want', u'to', u'make', u'waves', u'We', u'expect', u'this', u'will', u'be', u'allowed', u'in', u'two', u'or', u'three', u'years', u'he', u'said', u'Like', u'other', u'city', u'banks', u'Sumitomo', u'is', u'also', u'pushing', u'to', u'expand', u'lending', u'to', u'individuals', u'and', u'small', u'and', u'medium', u'businesses', u'to', u'replace', u'disappearing', u'demand', u'from', u'big', u'business', u'he', u'added', u'The', u'analysts', u'said', u'Sumitomo', u'will', u'have', u'to', u'devote', u'a', u'lot', u'of', u'time', u'to', u'digesting', u'its', u'most', u'recent', u'initiatives', u'including', u'the', u'merger', u'with', u'ailing', u'Heiwa', u'Sogo', u'It', u's', u'Sumitomo', u'been', u'bold', u'in', u'its', u'strategies', u'said', u'Kleinwort', u's', u'Smithson', u'After', u'that', u'it', u's', u'a', u'question', u'of', u'absorbing', u'and', u'juggling', u'around', u'It', u'will', u'be', u'the', u'next', u'decade', u'before', u'we', u'see', u'if', u'the', u'strategy', u'is', u'right', u'or', u'wrong']\n"
     ]
    },
    {
     "name": "stderr",
     "output_type": "stream",
     "text": [
      "/home/manttari/anaconda2/lib/python2.7/site-packages/bs4/__init__.py:181: UserWarning: No parser was explicitly specified, so I'm using the best available HTML parser for this system (\"lxml\"). This usually isn't a problem, but if you run this code on another system, or in a different virtual environment, it may use a different parser and behave differently.\n",
      "\n",
      "The code that caused this warning is on line 174 of the file /home/manttari/anaconda2/lib/python2.7/runpy.py. To get rid of this warning, change code that looks like this:\n",
      "\n",
      " BeautifulSoup([your markup])\n",
      "\n",
      "to this:\n",
      "\n",
      " BeautifulSoup([your markup], \"lxml\")\n",
      "\n",
      "  markup_type=markup_type))\n"
     ]
    }
   ],
   "source": [
    "print word_tokenize(document)\n",
    "print \"----\"\n",
    "print word_tokenize(clean_doc(document))"
   ]
  },
  {
   "cell_type": "code",
   "execution_count": 15,
   "metadata": {
    "collapsed": true
   },
   "outputs": [],
   "source": [
    "def clean_doc(raw_doc):\n",
    "    doc_text = BeautifulSoup(raw_doc).get_text() \n",
    "\n",
    "    # Remove non-letters     \n",
    "    letters_only = re.sub(\"[^a-zA-Z]\", \" \", doc_text) \n",
    "    return letters_only"
   ]
  },
  {
   "cell_type": "code",
   "execution_count": null,
   "metadata": {
    "collapsed": true
   },
   "outputs": [],
   "source": []
  }
 ],
 "metadata": {
  "anaconda-cloud": {},
  "kernelspec": {
   "display_name": "Python [conda root]",
   "language": "python",
   "name": "conda-root-py"
  },
  "language_info": {
   "codemirror_mode": {
    "name": "ipython",
    "version": 2
   },
   "file_extension": ".py",
   "mimetype": "text/x-python",
   "name": "python",
   "nbconvert_exporter": "python",
   "pygments_lexer": "ipython2",
   "version": "2.7.12"
  }
 },
 "nbformat": 4,
 "nbformat_minor": 0
}
