{
 "cells": [
  {
   "cell_type": "code",
   "execution_count": 144,
   "metadata": {
    "collapsed": true
   },
   "outputs": [],
   "source": [
    "import numpy as np\n",
    "import re\n",
    "import pickle\n",
    "from nltk.corpus import reuters, stopwords"
   ]
  },
  {
   "cell_type": "code",
   "execution_count": 156,
   "metadata": {
    "collapsed": true
   },
   "outputs": [],
   "source": [
    "TRAIN = 'train'\n",
    "TEST = 'test'\n",
    "SPLITS = [TRAIN, TEST]"
   ]
  },
  {
   "cell_type": "code",
   "execution_count": 155,
   "metadata": {
    "collapsed": true
   },
   "outputs": [],
   "source": [
    "ACQ = 'acq'\n",
    "CORN = 'corn'\n",
    "CRUDE = 'crude'\n",
    "EARN = 'earn'\n",
    "CLASSES = [ACQ, CORN, CRUDE, EARN]"
   ]
  },
  {
   "cell_type": "code",
   "execution_count": 157,
   "metadata": {
    "collapsed": true
   },
   "outputs": [],
   "source": [
    "sizes = {\n",
    "    TRAIN: {\n",
    "        EARN: 152,\n",
    "        ACQ: 114,\n",
    "        CRUDE: 76,\n",
    "        CORN: 38\n",
    "    },\n",
    "    TEST: {\n",
    "        EARN: 40,\n",
    "        ACQ: 25,\n",
    "        CRUDE: 15,\n",
    "        CORN: 10\n",
    "    }\n",
    "}"
   ]
  },
  {
   "cell_type": "code",
   "execution_count": 173,
   "metadata": {
    "collapsed": true
   },
   "outputs": [],
   "source": [
    "labels = {\n",
    "    ACQ: 0,\n",
    "    CORN: 1,\n",
    "    CRUDE: 2,\n",
    "    EARN: 3,\n",
    "}"
   ]
  },
  {
   "cell_type": "code",
   "execution_count": 158,
   "metadata": {
    "collapsed": false
   },
   "outputs": [],
   "source": [
    "def clean(doc):\n",
    "    doc = re.sub('[^a-zA-Z]', ' ', doc)\n",
    "    doc = re.sub(' +', ' ', doc)\n",
    "    doc = ' '.join([w for w in doc.split() if w not in stopwords.words('english')])\n",
    "    return doc.lower().strip()"
   ]
  },
  {
   "cell_type": "code",
   "execution_count": 179,
   "metadata": {
    "collapsed": false
   },
   "outputs": [
    {
     "name": "stdout",
     "output_type": "stream",
     "text": [
      "train acq 114\n",
      "train corn 38\n",
      "train crude 76\n",
      "train earn 152\n",
      "test acq 25\n",
      "test corn 10\n",
      "test crude 15\n",
      "test earn 40\n"
     ]
    }
   ],
   "source": [
    "data = {}\n",
    "for split in SPLITS:\n",
    "    data[split] = []\n",
    "    for cls in CLASSES:\n",
    "        file_list = [clean(reuters.raw(d)) for d in reuters.fileids(cls) if d.startswith(split)]\n",
    "        # disregard documents that are too short\n",
    "        long_list = [d for d in file_list if len(d) > 15]\n",
    "        # sort remaining documents by length\n",
    "        #sort_list = sorted(long_list, key=len)\n",
    "        # split off however many we need\n",
    "        final_list = long_list[:sizes[split][cls]]\n",
    "        for doc in final_list:\n",
    "            data[split].append((doc, cls))\n",
    "        print(split, cls, len(final_list))"
   ]
  },
  {
   "cell_type": "code",
   "execution_count": 180,
   "metadata": {
    "collapsed": false
   },
   "outputs": [],
   "source": [
    "pickle.dump(data, open('reuters470big.pkl', 'wb'))"
   ]
  },
  {
   "cell_type": "code",
   "execution_count": null,
   "metadata": {
    "collapsed": true
   },
   "outputs": [],
   "source": []
  }
 ],
 "metadata": {
  "kernelspec": {
   "display_name": "Python 3",
   "language": "python",
   "name": "python3"
  },
  "language_info": {
   "codemirror_mode": {
    "name": "ipython",
    "version": 3
   },
   "file_extension": ".py",
   "mimetype": "text/x-python",
   "name": "python",
   "nbconvert_exporter": "python",
   "pygments_lexer": "ipython3",
   "version": "3.5.1"
  }
 },
 "nbformat": 4,
 "nbformat_minor": 0
}
