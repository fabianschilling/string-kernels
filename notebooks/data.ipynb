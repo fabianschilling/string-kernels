{
 "cells": [
  {
   "cell_type": "code",
   "execution_count": 144,
   "metadata": {
    "collapsed": true
   },
   "outputs": [],
   "source": [
    "import numpy as np\n",
    "import re\n",
    "import pickle\n",
    "from nltk.corpus import reuters, stopwords"
   ]
  },
  {
   "cell_type": "code",
   "execution_count": 85,
   "metadata": {
    "collapsed": true
   },
   "outputs": [],
   "source": [
    "data = {}\n",
    "data['train'] = {}\n",
    "data['test'] = {}"
   ]
  },
  {
   "cell_type": "code",
   "execution_count": 51,
   "metadata": {
    "collapsed": false
   },
   "outputs": [],
   "source": [
    "def clean(doc):\n",
    "    doc = re.sub('[^a-zA-Z]', ' ', doc)\n",
    "    doc = re.sub(' +', ' ', doc)\n",
    "    doc = ' '.join([w for w in doc.split() if w not in stopwords.words('english')])\n",
    "    return doc.lower().strip()"
   ]
  },
  {
   "cell_type": "code",
   "execution_count": 88,
   "metadata": {
    "collapsed": true
   },
   "outputs": [],
   "source": [
    "earn_train_files = sorted([clean(reuters.raw(d)) for d in reuters.fileids('earn') if d.startswith('train')], key=len)"
   ]
  },
  {
   "cell_type": "code",
   "execution_count": 95,
   "metadata": {
    "collapsed": false
   },
   "outputs": [],
   "source": [
    "data['train']['earn'] = earn_train_files[16:16+152]"
   ]
  },
  {
   "cell_type": "code",
   "execution_count": 96,
   "metadata": {
    "collapsed": true
   },
   "outputs": [],
   "source": [
    "earn_test_files = sorted([clean(reuters.raw(d)) for d in reuters.fileids('earn') if d.startswith('test')], key=len)"
   ]
  },
  {
   "cell_type": "code",
   "execution_count": 103,
   "metadata": {
    "collapsed": false
   },
   "outputs": [],
   "source": [
    "data['test']['earn'] = earn_test_files[7:7+40]"
   ]
  },
  {
   "cell_type": "code",
   "execution_count": 105,
   "metadata": {
    "collapsed": true
   },
   "outputs": [],
   "source": [
    "acq_train_files = sorted([clean(reuters.raw(d)) for d in reuters.fileids('acq') if d.startswith('train')], key=len)"
   ]
  },
  {
   "cell_type": "code",
   "execution_count": 110,
   "metadata": {
    "collapsed": false
   },
   "outputs": [],
   "source": [
    "data['train']['acq'] = acq_train_files[2:2+114]"
   ]
  },
  {
   "cell_type": "code",
   "execution_count": 111,
   "metadata": {
    "collapsed": true
   },
   "outputs": [],
   "source": [
    "acq_test_files = sorted([clean(reuters.raw(d)) for d in reuters.fileids('acq') if d.startswith('test')], key=len)"
   ]
  },
  {
   "cell_type": "code",
   "execution_count": 116,
   "metadata": {
    "collapsed": false
   },
   "outputs": [],
   "source": [
    "data['test']['acq'] = acq_test_files[1:1+25]"
   ]
  },
  {
   "cell_type": "code",
   "execution_count": 117,
   "metadata": {
    "collapsed": true
   },
   "outputs": [],
   "source": [
    "crude_train_files = sorted([clean(reuters.raw(d)) for d in reuters.fileids('crude') if d.startswith('train')], key=len)"
   ]
  },
  {
   "cell_type": "code",
   "execution_count": 121,
   "metadata": {
    "collapsed": false
   },
   "outputs": [],
   "source": [
    "data['train']['crude'] = crude_train_files[4:4+76]"
   ]
  },
  {
   "cell_type": "code",
   "execution_count": 123,
   "metadata": {
    "collapsed": false
   },
   "outputs": [],
   "source": [
    "crude_test_files = sorted([clean(reuters.raw(d)) for d in reuters.fileids('crude') if d.startswith('test')], key=len)"
   ]
  },
  {
   "cell_type": "code",
   "execution_count": 127,
   "metadata": {
    "collapsed": false
   },
   "outputs": [],
   "source": [
    "data['test']['crude'] = crude_test_files[3:3+15]"
   ]
  },
  {
   "cell_type": "code",
   "execution_count": 128,
   "metadata": {
    "collapsed": true
   },
   "outputs": [],
   "source": [
    "corn_train_files = sorted([clean(reuters.raw(d)) for d in reuters.fileids('corn') if d.startswith('train')], key=len)"
   ]
  },
  {
   "cell_type": "code",
   "execution_count": 130,
   "metadata": {
    "collapsed": false
   },
   "outputs": [],
   "source": [
    "data['train']['corn'] = corn_train_files[1:1+38]"
   ]
  },
  {
   "cell_type": "code",
   "execution_count": 131,
   "metadata": {
    "collapsed": true
   },
   "outputs": [],
   "source": [
    "corn_test_files = sorted([clean(reuters.raw(d)) for d in reuters.fileids('corn') if d.startswith('test')], key=len)"
   ]
  },
  {
   "cell_type": "code",
   "execution_count": 134,
   "metadata": {
    "collapsed": false
   },
   "outputs": [],
   "source": [
    "data['test']['corn'] = corn_test_files[:10]"
   ]
  },
  {
   "cell_type": "code",
   "execution_count": 143,
   "metadata": {
    "collapsed": false
   },
   "outputs": [
    {
     "data": {
      "text/plain": [
       "10"
      ]
     },
     "execution_count": 143,
     "metadata": {},
     "output_type": "execute_result"
    }
   ],
   "source": [
    "len(data['test']['corn'])"
   ]
  },
  {
   "cell_type": "code",
   "execution_count": 148,
   "metadata": {
    "collapsed": false
   },
   "outputs": [],
   "source": [
    "pickle.dump(data, open('reuters460.pkl', 'wb'))"
   ]
  },
  {
   "cell_type": "code",
   "execution_count": 150,
   "metadata": {
    "collapsed": false
   },
   "outputs": [],
   "source": [
    "loaded = pickle.load( open('reuters460.pkl', 'rb'))"
   ]
  },
  {
   "cell_type": "code",
   "execution_count": 151,
   "metadata": {
    "collapsed": false
   },
   "outputs": [
    {
     "data": {
      "text/plain": [
       "{'test': {'acq': ['borden to acquire prince co for about mln dlrs borden to acquire prince co for about mln dlrs',\n",
       "   'spectra physics rejects ciba geigy tender offer spectra physics rejects ciba geigy tender offer',\n",
       "   'usair to buy pct of mln piedmont shares tendered usair to buy pct of mln piedmont shares tendered',\n",
       "   'ibc acquisition gets shares in tender to buy pct ibc acquisition gets shares in tender to buy pct',\n",
       "   'boeing co to acquire argosystems for dlrs a share boeing co to acquire argosystems for dlrs a share',\n",
       "   'gencorp said agreement to sell rko pictures terminated gencorp said agreement to sell rko pictures terminated',\n",
       "   'dominion textile calls report of bid for burlington rumor dominion textile calls report of bid for burlington rumor',\n",
       "   'irwin jacobs says he holds less than five pct of gillette irwin jacobs says he holds less than five pct of gillette',\n",
       "   'sainsbury says taking control shaw supermarkets dlrs share sainsbury says taking control shaw supermarkets dlrs share',\n",
       "   'bass led group has pct bell howell co stake for investment bass led group has pct bell howell co stake for investment',\n",
       "   'barco directors approve buyout offer from senior management barco directors approve buyout offer from senior management',\n",
       "   'computer associates to acquire uccel corp for about mln dlrs computer associates to acquire uccel corp for about mln dlrs',\n",
       "   'chrysler agrees to acquire electrospace systems for mln dlrs chrysler agrees to acquire electrospace systems for mln dlrs',\n",
       "   'north american communications weighs possible sale or merger north american communications weighs possible sale or merger',\n",
       "   'stifel financial said it received unsolicited merger proposal stifel financial said it received unsolicited merger proposal',\n",
       "   'willis faber says making agreed mln stg bid stewart wrightson willis faber says making agreed mln stg bid stewart wrightson',\n",
       "   'ge credit says it will buy kraft inc s d and k financial corp ge credit says it will buy kraft inc s d and k financial corp',\n",
       "   'trump and interstate properties in talks to acquire alexanders trump and interstate properties in talks to acquire alexanders',\n",
       "   'forstmann little and co said it plans to sell sybron corp unit forstmann little and co said it plans to sell sybron corp unit',\n",
       "   'henley group reviewing investment in santa fe southern pacific henley group reviewing investment in santa fe southern pacific',\n",
       "   'hicks and haas group gets financing for spectradyne acquisition hicks and haas group gets financing for spectradyne acquisition',\n",
       "   'gabelli firms have pct stake in digiorgio corp may seek control gabelli firms have pct stake in digiorgio corp may seek control',\n",
       "   'trans world airlines said carl icahn withdraws acquisition offer trans world airlines said carl icahn withdraws acquisition offer',\n",
       "   'cadillac fairview says it has received some acquisition proposals cadillac fairview says it has received some acquisition proposals',\n",
       "   'viacom says federal court rejects request to block planned merger viacom says federal court rejects request to block planned merger'],\n",
       "  'corn': ['u s exporters report tonnes of corn sold to ussr for u s exporters report tonnes of corn sold to ussr for',\n",
       "   'usda u s ending corn stocks mln bu wheat mln soybeans mln usda u s ending corn stocks mln bu wheat mln soybeans mln',\n",
       "   'u s export inspections in thous bushels soybeans wheat corn u s export inspections in thous bushels soybeans wheat corn',\n",
       "   'u s export inspections in thous bushels soybeans wheat corn u s export inspections in thous bushels soybeans wheat corn',\n",
       "   'u s export inspections in thous bushels soybeans wheat corn u s export inspections in thous bushels soybeans wheat corn',\n",
       "   'u s exporters report tonnes corn sold to algeria for delivery u s exporters report tonnes corn sold to algeria for delivery',\n",
       "   'egypt seeking tonnes corn u s traders egypt expected tender april tonnes corn may september shipments private export sources said',\n",
       "   'u s exporters report tonnes corn sold to unknown destinations for u s exporters report tonnes corn sold to unknown destinations for',\n",
       "   'ec authorises export tonnes maize maximum rebate ecus tonne trade sources ec authorises export tonnes maize maximum rebate ecus tonne trade sources',\n",
       "   'rumors that ussr buys u s corn traders rumors circulated among trade morning ussr may purchased one two mln tonnes u s corn confirmation one dealer said felt business done amount probably low end trade estimates'],\n",
       "  'crude': ['arco raises crude oil prices cts barrel today wti to arco raises crude oil prices cts barrel today wti to',\n",
       "   'shell canada raises crude oil posting canadian cts bbl shell canada raises crude oil posting canadian cts bbl',\n",
       "   'amoco raises most crude postings cts today wti to dlrs amoco raises most crude postings cts today wti to dlrs',\n",
       "   'permian raises crude oil postings cts a bbl wti to dlrs permian raises crude oil postings cts a bbl wti to dlrs',\n",
       "   'marathon raises crude oil postings cts bbl wti now dlrs marathon raises crude oil postings cts bbl wti now dlrs',\n",
       "   'weinberger says u s forces attacked iranian oil platform weinberger says u s forces attacked iranian oil platform',\n",
       "   'unocal raised crude oil postings cts bbl wti now dlrs bbl unocal raised crude oil postings cts bbl wti now dlrs bbl',\n",
       "   'eia says distillate stocks unchanged gasoline off crude up mln eia says distillate stocks unchanged gasoline off crude up mln',\n",
       "   'coastal raises crude oil postings cts bbl yesterday wti to dlrs coastal raises crude oil postings cts bbl yesterday wti to dlrs',\n",
       "   'murphy raises crude oil postings cts a bbl yesterday wti to dlrs murphy raises crude oil postings cts a bbl yesterday wti to dlrs',\n",
       "   'southland corp raised crude oil postings cts bbl wti now dlrs bbl southland corp raised crude oil postings cts bbl wti now dlrs bbl',\n",
       "   'dupont unit raises crude oil postings cts bbl effective yesterday dupont unit raises crude oil postings cts bbl effective yesterday',\n",
       "   'api says distillates off mln barrels gasoline off mln crude up mln api says distillates off mln barrels gasoline off mln crude up mln',\n",
       "   'coastal said raised oil postings cts a barrel october wti now dlrs coastal said raised oil postings cts a barrel october wti now dlrs',\n",
       "   'api says distillate stocks up mln bbls gasoline off mln crude off mln api says distillate stocks up mln bbls gasoline off mln crude off mln'],\n",
       "  'earn': ['banponce corp lt bdep st qtr net shr dlrs vs dlr net vs',\n",
       "   'napa valley bancorp lt nvbc st qtr net shr cts vs cts net vs',\n",
       "   'first commerce corp lt fcom st qtr net shr cts vs cts net vs',\n",
       "   'ncr corp st qtr shr cts vs cts ncr corp st qtr shr cts vs cts',\n",
       "   'gte corp st qtr shr cts vs cts gte corp st qtr shr cts vs cts',\n",
       "   'firstbanc corp of ohio lt fboh st qtr net shr cts vs cts net vs',\n",
       "   'cfcf inc six mths feb net shr cts vs cts net vs revs mln vs mln',\n",
       "   'national city bancorp lt ncbm o st qtr net shr cts vs cts net vs',\n",
       "   'southern national corp lt snat o st qtr net shr cts vs cts net vs',\n",
       "   'walgreen co nd qtr shr cts vs cts walgreen co nd qtr shr cts vs cts',\n",
       "   'voplex corp lt vot st qtr mar shr cts vs cts net vs revs mln vs mln',\n",
       "   'independent bank corp lt ibcp o st qtr net shr cts vs shr cts net vs',\n",
       "   'roto rooter inc lt roto st qtr net shr cts vs cts net vs revs mln vs',\n",
       "   'lt strathfield oil and gas ltd year net shr cts vs cts net vs revs vs',\n",
       "   'square d corp lt sqd st qtr net shr cts vs cts net vs sales mln vs mln',\n",
       "   'raytheon co st qtr shr dlrs vs dlrs raytheon co st qtr shr dlrs vs dlrs',\n",
       "   'plasti line inc lt sign o st qtr net shr cts vs cts net vs sales mln vs',\n",
       "   'cayuga savings bank lt cayb st qtr net shr cts vs cts net vs avg shrs vs',\n",
       "   'bank of new england corp lt bkne o st qtr shr dlrs vs cts net mln vs mln',\n",
       "   'j bildner and sons inc lt jbil o st qtr shr one ct vs nil net vs revs vs',\n",
       "   'ifr systems inc lt ifrs o st qtr sept net shr cts vs cts net vs sales vs',\n",
       "   'rubbermaid inc st qtr shr cts vs cts rubbermaid inc st qtr shr cts vs cts',\n",
       "   'whirlpool corp st qtr shr cts vs cts whirlpool corp st qtr shr cts vs cts',\n",
       "   'oneok inc lt oke in payout qtly div cts vs cts prior pay may record april',\n",
       "   'lt mr jax fashions inc year feb net shr cts vs cts net vs sales mln vs mln',\n",
       "   'kdi corp lt kdi st qtr march shr cts vs six cts net mln vs revs mln vs mln',\n",
       "   'godfrey co lt gdfy o st qtr may net shr cts vs cts net vs sales mln vs mln',\n",
       "   'mead corp st qtr oper shr dlrs vs cts mead corp st qtr oper shr dlrs vs cts',\n",
       "   'citytrust bancorp inc lt citr st qtr net shr dlrs vs dlrs net vs avg shrs vs',\n",
       "   'rowe furniture corp lt rowe st qtr feb shr cts vs cts net vs revs mln vs mln',\n",
       "   'john h harland co lt jh st qtr net shr cts vs cts net mln vs revs mln vs mln',\n",
       "   'oakite products inc lt okt st qtr net shr cts vs cts net vs sales mln vs mln',\n",
       "   'detection systems lt detc o year end march shr cts vs nil net vs revs mln vs',\n",
       "   'lt agf management ltd six mths may net shr cts vs cts net vs revs mln vs mln',\n",
       "   'rite aid corp lt rad sets dividend qtly div cts vs cts pay april record april',\n",
       "   'ford raises qtly payout cts shr to cts ford raises qtly payout cts shr to cts',\n",
       "   'lt c and r clothiers inc jan year net shr dlrs vs cts net vs sales mln vs mln',\n",
       "   'fab industries inc lt fit st qtr feb net shr cts vs cts net vs revs mln vs mln',\n",
       "   'potlatch corp lt pch st qtr net shr cts vs cts net mln vs mln sales mln vs mln',\n",
       "   'texas american energy corp lt tae st qtr shr cts vs cts net vs revs mln vs mln']},\n",
       " 'train': {'acq': ['twa confirms ownership of pct of usair group twa confirms ownership of pct of usair group',\n",
       "   'calny inc rejects pepsico inc acquisition offer calny inc rejects pepsico inc acquisition offer',\n",
       "   'waste management ends tender offer for chemlawn waste management ends tender offer for chemlawn',\n",
       "   'eastman kodak acquires pct interest in enzon inc eastman kodak acquires pct interest in enzon inc',\n",
       "   'charter federal jefferson savings agree to merge charter federal jefferson savings agree to merge',\n",
       "   'dixons group plc buys cyclops shares now owns pct dixons group plc buys cyclops shares now owns pct',\n",
       "   'bilzerian tells sec he ups pay n pak stake to pct bilzerian tells sec he ups pay n pak stake to pct',\n",
       "   'gaf corp offers dlrs a share cash for borg warner gaf corp offers dlrs a share cash for borg warner',\n",
       "   'delta air lines completes acquisition of western air delta air lines completes acquisition of western air',\n",
       "   'pepsico offers to acquire calny inc for dlrs a share pepsico offers to acquire calny inc for dlrs a share',\n",
       "   'norstar bancorp fleet financial group agree to merge norstar bancorp fleet financial group agree to merge',\n",
       "   'usair gets approval to buy piedmont shares in tender usair gets approval to buy piedmont shares in tender',\n",
       "   'general partners is terminating offer for gencorp inc general partners is terminating offer for gencorp inc',\n",
       "   'usair group rejects trans world airlines takeover bid usair group rejects trans world airlines takeover bid',\n",
       "   'general partners willing to pay dlrs share for gencorp general partners willing to pay dlrs share for gencorp',\n",
       "   'ohio edison sells pct of nuclear interest for mln dlrs ohio edison sells pct of nuclear interest for mln dlrs',\n",
       "   'cyacq raises offer for cyclops to dlrs share from dlrs cyacq raises offer for cyclops to dlrs share from dlrs',\n",
       "   'woolworth holdings says bidding mln stg superdrug stores woolworth holdings says bidding mln stg superdrug stores',\n",
       "   'chrysler take renault stake american motors says renault chrysler take renault stake american motors says renault',\n",
       "   'harcourt brace sets march deadline in harper and row bid harcourt brace sets march deadline in harper and row bid',\n",
       "   'bp says tender remaining pct standard oil dlrs share cash bp says tender remaining pct standard oil dlrs share cash',\n",
       "   'minstar inc said it sold all mln of its borg warner shares minstar inc said it sold all mln of its borg warner shares',\n",
       "   'noranda to spin off forest interests into separate company noranda to spin off forest interests into separate company',\n",
       "   'cyacq offers to raise cyclops buyout to dlrs shr from dlrs cyacq offers to raise cyclops buyout to dlrs shr from dlrs',\n",
       "   'beneficial corp to sell western national life for mln dlrs beneficial corp to sell western national life for mln dlrs',\n",
       "   'caesars world inc said board rejects martin sosnoff tender caesars world inc said board rejects martin sosnoff tender',\n",
       "   'chemlawn corp echolab inc sign definitive merger agreement chemlawn corp echolab inc sign definitive merger agreement',\n",
       "   'bell resources says buys mln bhp shares taking holding pct bell resources says buys mln bhp shares taking holding pct',\n",
       "   'resorts international gets buyout proposal from ksz co inc resorts international gets buyout proposal from ksz co inc',\n",
       "   'supermarkets general gets unsolicited bid for dlrs shr cash supermarkets general gets unsolicited bid for dlrs shr cash',\n",
       "   'cook united inc in talks to sell stake to private investors cook united inc in talks to sell stake to private investors',\n",
       "   'viacom said it has new national amusements mcv holdings bids viacom said it has new national amusements mcv holdings bids',\n",
       "   'dixons group said it accepts pct of cyclops shares in tender dixons group said it accepts pct of cyclops shares in tender',\n",
       "   'gencorp asks shareholders to postpone action in tender offer gencorp asks shareholders to postpone action in tender offer',\n",
       "   'eli lilly and co plans to sell its elizabeth arden subsidiary eli lilly and co plans to sell its elizabeth arden subsidiary',\n",
       "   'waste management says waiting period ends on its chemlawn bid waste management says waiting period ends on its chemlawn bid',\n",
       "   'ranco lt rni holders approve merger ranco inc said shareholders special meeting approved merger lt siebe plc dlrs per share',\n",
       "   'mts acquisition has negligible number of caesars world shares mts acquisition has negligible number of caesars world shares',\n",
       "   'sandox buys stauffer seeds sandoz corp northrup king co said bought stauffer seeds unit stauffer chemical co terms disclosed',\n",
       "   'shv says it making tender offer for up to mln shares in ic gas shv says it making tender offer for up to mln shares in ic gas',\n",
       "   'first boston affiliate to acquire allegheny int l for dlrs shr first boston affiliate to acquire allegheny int l for dlrs shr',\n",
       "   'united auto workers union says it supports chrysler amc merger united auto workers union says it supports chrysler amc merger',\n",
       "   'analyst says dart group likely bidder for supermarkets general analyst says dart group likely bidder for supermarkets general',\n",
       "   'diamond shamrock sets pct proration factor for tendered shares diamond shamrock sets pct proration factor for tendered shares',\n",
       "   'patrick petroluem has definitive accord to buy bayou resources patrick petroluem has definitive accord to buy bayou resources',\n",
       "   'novamin says it received proposed takeover bid from breakwater novamin says it received proposed takeover bid from breakwater',\n",
       "   'lear siegler holding corp plans to divest aerospace subsidiary lear siegler holding corp plans to divest aerospace subsidiary',\n",
       "   'pitt des moines inc lt pdm to acquire steel unit pitt des moines inc said acquire lt chicago steel corp exchange portion stock',\n",
       "   'royex offers dlrs shr and dlrs warrant for international corona royex offers dlrs shr and dlrs warrant for international corona',\n",
       "   'twa files application seeking right to raise usair stake to pct twa files application seeking right to raise usair stake to pct',\n",
       "   'twa in legal stipulation not to pursue the acquisition of usair twa in legal stipulation not to pursue the acquisition of usair',\n",
       "   'ual said donald trump was interested in ual stock as investment ual said donald trump was interested in ual stock as investment',\n",
       "   'investor paul bilzerian has pct pay n pak stake may seek control investor paul bilzerian has pct pay n pak stake may seek control',\n",
       "   'minstar inc said it is still interested in acquiring borg warner minstar inc said it is still interested in acquiring borg warner',\n",
       "   'allegheny international sells wilkinson sword group for mln dlrs allegheny international sells wilkinson sword group for mln dlrs',\n",
       "   'avon says it to buy giorgio inc a fragrance company for mln dlrs avon says it to buy giorgio inc a fragrance company for mln dlrs',\n",
       "   'gencorp to sell los angeles television station to walt disney co gencorp to sell los angeles television station to walt disney co',\n",
       "   'hughes tool shareholders approve merger with baker international hughes tool shareholders approve merger with baker international',\n",
       "   'sunter acquisition begins tender for allegheny international inc sunter acquisition begins tender for allegheny international inc',\n",
       "   'taft chairman s group raises taft broadcasting bid to dlrs share taft chairman s group raises taft broadcasting bid to dlrs share',\n",
       "   'conrac says it is mulling restructuring or buyout as alternatives conrac says it is mulling restructuring or buyout as alternatives',\n",
       "   'mcandrews and forbes are offering dlrs per share for revlon stock mcandrews and forbes are offering dlrs per share for revlon stock',\n",
       "   'dart group said it offers to buy supermarkets general at dlrs shr dart group said it offers to buy supermarkets general at dlrs shr',\n",
       "   'pittston agrees to acquire wtc international in exchange of stock pittston agrees to acquire wtc international in exchange of stock',\n",
       "   'rospatch corp rejects offer from diagnostic retrieval systems inc rospatch corp rejects offer from diagnostic retrieval systems inc',\n",
       "   'comdata network agrees to higher offer from welsh carson anderson comdata network agrees to higher offer from welsh carson anderson',\n",
       "   'borg warner says it discussed possible takeover with irwin jacobs borg warner says it discussed possible takeover with irwin jacobs',\n",
       "   'foote mineral co in letter of intent to merge into rio tinto zinc foote mineral co in letter of intent to merge into rio tinto zinc',\n",
       "   'viacom international inc gets another new national amusements bid viacom international inc gets another new national amusements bid',\n",
       "   'soros group tells sec it may buy up to pct of fairchild industries soros group tells sec it may buy up to pct of fairchild industries',\n",
       "   'baker international to sell electric submersible oilwell pump unit baker international to sell electric submersible oilwell pump unit',\n",
       "   'affiliated publications to buy billboard publications for mln dlrs affiliated publications to buy billboard publications for mln dlrs',\n",
       "   'tm communications lt tmci completes purchase tm communications inc said completed acquisition radio station knss fm reno nev dlrs cash',\n",
       "   'borg warner up amid rumors irwin jacobs sold stock arbitrageurs say borg warner up amid rumors irwin jacobs sold stock arbitrageurs say',\n",
       "   'emery air freight corp to offer dlrs shr for purolator courier corp emery air freight corp to offer dlrs shr for purolator courier corp',\n",
       "   'trans world airlines makes dlr share cash merger proposal for usair trans world airlines makes dlr share cash merger proposal for usair',\n",
       "   'baker international corp sues hughes tool seeking merger completion baker international corp sues hughes tool seeking merger completion',\n",
       "   'orange co lt oj holder raises stake orange co inc said largest shareholder lt summit resoureces inc increased stake pct pct owns shares',\n",
       "   'business editor theodore cross offers dlrs share for harper and row business editor theodore cross offers dlrs share for harper and row',\n",
       "   'harper and row gets bid from harcourt brace jovanovich for dlrs shr harper and row gets bid from harcourt brace jovanovich for dlrs shr',\n",
       "   'borg warner to sell industrial products business for about mln dlrs borg warner to sell industrial products business for about mln dlrs',\n",
       "   'becor western gets offer to be acquired by new group for dlrs share becor western gets offer to be acquired by new group for dlrs share',\n",
       "   'fed approves chemical bank acquisition of texas commerce bancshares fed approves chemical bank acquisition of texas commerce bancshares',\n",
       "   'sweden s boliden to announce major corporate takeover today official sweden s boliden to announce major corporate takeover today official',\n",
       "   'emery air freight said hutton group ends offer for purolator courier emery air freight said hutton group ends offer for purolator courier',\n",
       "   'justice dept supports dismissal of twa application for usair control justice dept supports dismissal of twa application for usair control',\n",
       "   'jones and vining said vulcan corp offers five dlrs a share for jones jones and vining said vulcan corp offers five dlrs a share for jones',\n",
       "   'diagnostic retrieval systems inc makes mln dlr bid for rospatch corp diagnostic retrieval systems inc makes mln dlr bid for rospatch corp',\n",
       "   'taft broadcasting rejects dlr per share buyout offer from theta corp taft broadcasting rejects dlr per share buyout offer from theta corp',\n",
       "   'dudley taft and narragansett capital to pursue taft broadcasting bid dudley taft and narragansett capital to pursue taft broadcasting bid',\n",
       "   'court enjoins zico investment s tender for bancroft convertible fund court enjoins zico investment s tender for bancroft convertible fund',\n",
       "   'cyclops corp says cyacq s amended offer restates original conditions cyclops corp says cyacq s amended offer restates original conditions',\n",
       "   'brussels ferruzzi says pay mln dlrs cpc international european mills brussels ferruzzi says pay mln dlrs cpc international european mills',\n",
       "   'dixons said it got and accepted only pct of cyclops shares in tender dixons said it got and accepted only pct of cyclops shares in tender',\n",
       "   'news corp ltd to acquire harper and row publishers inc for dlrs share news corp ltd to acquire harper and row publishers inc for dlrs share',\n",
       "   'transportation department dismisses twa application for usair control transportation department dismisses twa application for usair control',\n",
       "   'texas air to give former continental air holders another dlrs a share texas air to give former continental air holders another dlrs a share',\n",
       "   'group tendering for gencorp says it holds about pct of gencorp common group tendering for gencorp says it holds about pct of gencorp common',\n",
       "   'williams holdings says it bidding mln stg for norcros ordinary shares williams holdings says it bidding mln stg for norcros ordinary shares',\n",
       "   'cyacq amends cyclops offer conditions says citicorp expands financing cyacq amends cyclops offer conditions says citicorp expands financing',\n",
       "   'huges tool company says baker international merger plan not terminated huges tool company says baker international merger plan not terminated',\n",
       "   'lucky stores says it and investor edelman reached standstill agreement lucky stores says it and investor edelman reached standstill agreement',\n",
       "   'carling o keefe sells star oil unit to united coal canada for mln dlrs carling o keefe sells star oil unit to united coal canada for mln dlrs',\n",
       "   'chemlawn corp said it is talking with new suitors about being acquired chemlawn corp said it is talking with new suitors about being acquired',\n",
       "   'corning to offer share for each hazleton share under earlier agreement corning to offer share for each hazleton share under earlier agreement',\n",
       "   'reichhold chemicals inc exploring possible sale of european subsidiary reichhold chemicals inc exploring possible sale of european subsidiary',\n",
       "   'vtx elecronics lt vtx sets sdtock split vtx electronics corp said board declared five four stock split payable april nine holders record march',\n",
       "   'caesars world says it considers restructuring and sale to other company caesars world says it considers restructuring and sale to other company',\n",
       "   'allied signal inc to sell linotype group to commerzbank of west germany allied signal inc to sell linotype group to commerzbank of west germany',\n",
       "   'bass group says it has had talks on seeking control of taft broadcasting bass group says it has had talks on seeking control of taft broadcasting',\n",
       "   'gencorp says alternative to hostile tender to be announced within a week gencorp says alternative to hostile tender to be announced within a week',\n",
       "   'cb and t lt cbtb completes acquisition cb t bancshares inc said completed acquisition first community bancshares inc of tifton ga assets mln dlrs',\n",
       "   'usair group requests transportation department order twa to divest stake usair group requests transportation department order twa to divest stake',\n",
       "   'goodyear tire to receive mln dlrs for goodyear aerospace from loral corp goodyear tire to receive mln dlrs for goodyear aerospace from loral corp'],\n",
       "  'corn': ['usda puts march u s corn stocks at bu soybeans usda puts march u s corn stocks at bu soybeans',\n",
       "   'u s exporters report tonnes corn sold to mexico for u s exporters report tonnes corn sold to mexico for',\n",
       "   'u s exporters report tonnes corn sold to taiwan for u s exporters report tonnes corn sold to taiwan for',\n",
       "   'u s exporters report tonnes corn sold to the ussr for u s exporters report tonnes corn sold to the ussr for',\n",
       "   'ec awards export licences for tonnes maize paris trade ec awards export licences for tonnes maize paris trade',\n",
       "   'u s corn soybean acreage estimates corn acres beans usda u s corn soybean acreage estimates corn acres beans usda',\n",
       "   'u s export inspections in thous bushels soybeans wheat corn u s export inspections in thous bushels soybeans wheat corn',\n",
       "   'u s export inspections in thous bushels soybeans wheat corn u s export inspections in thous bushels soybeans wheat corn',\n",
       "   'u s export inspections in thous bushels soybeans wheat corn u s export inspections in thous bushels soybeans wheat corn',\n",
       "   'u s export inspections in thous bushels soybeans wheat corn u s export inspections in thous bushels soybeans wheat corn',\n",
       "   'u s export inspections in thous bushels soybeans wheat corn u s export inspections in thous bushels soybeans wheat corn',\n",
       "   'canada rules u s corn injuring canadian farmers upholds duty canada rules u s corn injuring canadian farmers upholds duty',\n",
       "   'canada rules u s corn injuring canadian farmers upholds duty canada rules u s corn injuring canadian farmers upholds duty',\n",
       "   'u s exporters report tonnes corn sold to unknown destinations for u s exporters report tonnes corn sold to unknown destinations for',\n",
       "   'u s exporters report tonnes corn sold to unknown destinations for u s exporters report tonnes corn sold to unknown destinations for',\n",
       "   'u s exporters report tonnes corn switched from unknown to ussr for u s exporters report tonnes corn switched from unknown to ussr for',\n",
       "   'u s exporters report tonnes corn switched from unknown to ussr for u s exporters report tonnes corn switched from unknown to ussr for',\n",
       "   'ec grants tonnes barley french maize licences rejects wheat traders ec grants tonnes barley french maize licences rejects wheat traders',\n",
       "   'u s exporters report tonnes of corn sold to unknown destinations for u s exporters report tonnes of corn sold to unknown destinations for',\n",
       "   'u s exporters report tonnes corn corn switched from unknown to ussr for u s exporters report tonnes corn corn switched from unknown to ussr for',\n",
       "   'ec grants export licences tonnes free market maize zero barley paris traders ec grants export licences tonnes free market maize zero barley paris traders',\n",
       "   'israel tenders tonight for corn and or sorghum israel tender overnight long tons u s sorghum long tons u s corn april shipment private export sources said',\n",
       "   'portugal may have purchased u s corn portugal may purchased tonne cargo tender today tonnes number two yellow corn pct maximum moisture arrival april shipment via gulf ports u s exporters said',\n",
       "   'taiwan to tender for tonnes u s corn taiwan scheduled tender tonight tonnes u s corn export sources said the tender calls cargoes delivery april october early shipments fob pacific northwest said',\n",
       "   'taiwan tendering thursday for u s corn taiwan tender thursday march total tonnes u s number two yellow corn pct moisture various sept dec shipments via gulf pacific northwest ports u s exporters said',\n",
       "   'usda reports corn sold sold to unknown the u s agriculture department said private u s exporters reported sales tonnes corn unknown destinations shipment marketing year the marketing year corn began september said',\n",
       "   'egypt tenders thursday for optional origin corn egypt tender thursday tonnes optional origin corn u s number two equivalent pct moisture late april shipment private export sources said shipment gulf great lakes u s origin said',\n",
       "   'taiwan passes on u s corn will retender taiwan passed tender overnight tonnes u s corn tonnes u s sorghum private export sources said taiwan retender corn may shipment via gulf june via pacific northwest march rescheduled tender sorghum said',\n",
       "   'traders detail ec grain export licences the ec commission granted tonnes free market barley export licences today tender tonnes french maize grain traders said the maximum export rebate barley set ecus maize ecus per tonne all bids wheat rejected said',\n",
       "   'greece buys tonnes french maize trade greece bought total tonnes french maize tendered yesterday initially tonnes april delivery trade sources said they said tonnes shipped bordeaux sold francs per tonne fob tonnes rouen francs fob tonnes sete francs fob',\n",
       "   'ec opens special rebate for maize paris trade the ec commission decided open special daily export rebate today maize exports morocco israel canary islands zone c sub saharan africa trade sources said the rebate set european currency units per tonne march april july',\n",
       "   'grain reserve holdings usda the u s agriculture department gave preliminary breakdown grain farmer owned grain reserve april comparisons based telephone reports farmers filed department kansas city field office mln bushels april previous wheat corn sorghum barley oats',\n",
       "   'french free market cereal export bids detailed french operators requested licences export tonnes free market maize tonnes barley tonnes feed wheat today ec tender trade sources said for maize rebates requested range european currency units per tonne barley ecus feed wheat ecus',\n",
       "   'argentine grain oilseed export prices adjusted the argentine grain board adjusted minimum export prices grain oilseed products dlrs per tonne fob previous brackets follows maize grain sorghum roasted groundnutseed according grain size soybean pellets shipments may june onwards',\n",
       "   'ec sets export licences on tonnes maize the european community commission awarded export licences tonnes free market french maize maximum export rebate european currency units ecus per tonne trade sources said all requests export licences free market feed wheat barley rejected said',\n",
       "   'grain reserve holdings breakdown the u s agriculture department gave following breakdown grain remaining farmer owned grain reserve april mln bushels reserve number i ii iii iv v vi wheat nil nil corn sorghum x barley x mln cwts note usda says totals may match total reserve numbers',\n",
       "   'taiwan buys tonnes of u s corn taiwan overnight bought tonnes u s number two corn pct moisture gulf west coast shipment cargoes may october private export sources said gulf shipment ranged prices dlrs per tonne stowed trimmed fob euqivalent west coast shipments ranged dlrs per tonne stowed trimmed fob equivalent said',\n",
       "   'usda reports tonnes corn to unknown the u s agriculture department said private u s exporters reported sales tonnes corn delivery unknown destinations marketing season the marketing year corn began september this second day running exporters reported corn sales unknown destinations yesterday reported sales tonnes unknown'],\n",
       "  'crude': ['unocal raises most crude prices cts today wti at dlrs unocal raises most crude prices cts today wti at dlrs',\n",
       "   'citgo raises crude postings cts today wti to dlrs bbl citgo raises crude postings cts today wti to dlrs bbl',\n",
       "   'opec deliberately mln barrel ceiling defend price subroto opec deliberately mln barrel ceiling defend price subroto',\n",
       "   'marathon to raise crude prices cts bbl tomorrow wti to dlrs marathon to raise crude prices cts bbl tomorrow wti to dlrs',\n",
       "   'api says distillate stocks off mln bbls gasoline off crude up api says distillate stocks off mln bbls gasoline off crude up',\n",
       "   'eia says distillate stocks off mln gasoline off crude off mln eia says distillate stocks off mln gasoline off crude off mln',\n",
       "   'diamond shamrock raised crude by cts bbl today wti up to dlrs diamond shamrock raised crude by cts bbl today wti up to dlrs',\n",
       "   'reagan says u s must do more to lessen reliance on foreign oil reagan says u s must do more to lessen reliance on foreign oil',\n",
       "   'api says distillate stocks up bbls gasoline up mln crude up mln api says distillate stocks up bbls gasoline up mln crude up mln',\n",
       "   'conoco raises crude oil prices up to one dlr barrel wti at dlrs conoco raises crude oil prices up to one dlr barrel wti at dlrs',\n",
       "   'eia says distillates off mln bbls gasoline off mln crude off mln eia says distillates off mln bbls gasoline off mln crude off mln',\n",
       "   'eia says distillate stocks off mln bbls gasoline off crude up mln eia says distillate stocks off mln bbls gasoline off crude up mln',\n",
       "   'u s supreme court allows offshore alaskan oil and gas exploration u s supreme court allows offshore alaskan oil and gas exploration',\n",
       "   'api says distillate stocks off mln bbls gasoline off crude off mln api says distillate stocks off mln bbls gasoline off crude off mln',\n",
       "   'standard oil raises alaska north slope by dlrs effective april one standard oil raises alaska north slope by dlrs effective april one',\n",
       "   'phillips raises crude postings cts effective today wti to dlrs bbl phillips raises crude postings cts effective today wti to dlrs bbl',\n",
       "   'herrington says he may recommend tax benefits for u s oil industry herrington says he may recommend tax benefits for u s oil industry',\n",
       "   'pancanadian to sell north sea properties unit to whitehall for cash pancanadian to sell north sea properties unit to whitehall for cash',\n",
       "   'sun raises crude oil postings one dlr across board wti now dlrs bbl sun raises crude oil postings one dlr across board wti now dlrs bbl',\n",
       "   'murphy raises crude oil posted prices one dlr bbl wti to dlrs today murphy raises crude oil posted prices one dlr bbl wti to dlrs today',\n",
       "   'eia says distillate stocks off mln bbls gasoline up mln crude up mln eia says distillate stocks off mln bbls gasoline up mln crude up mln',\n",
       "   'saudi oil minister foresees no need for new opec measures before june saudi oil minister foresees no need for new opec measures before june',\n",
       "   'api says distillate stocks off mln bbls gasoline off mln crude up mln api says distillate stocks off mln bbls gasoline off mln crude up mln',\n",
       "   'shell canada raises crude prices by canadian cts bbl today at edmonton shell canada raises crude prices by canadian cts bbl today at edmonton',\n",
       "   'petro canada cut crude prices by canadian dlrs bbl effective march one petro canada cut crude prices by canadian dlrs bbl effective march one',\n",
       "   'api says distillate stocks off mln bbls gasoline off mln crude off mln api says distillate stocks off mln bbls gasoline off mln crude off mln',\n",
       "   'iraq oil minister qassem ahmed taqi replaced iraqi news agency reports iraq oil minister qassem ahmed taqi replaced iraqi news agency reports',\n",
       "   'mobil raises west coast crude prices between one dlr and dlrs bbl today mobil raises west coast crude prices between one dlr and dlrs bbl today',\n",
       "   'shell canada said it raised crude prices by canadian cts a barrel today shell canada said it raised crude prices by canadian cts a barrel today',\n",
       "   'amoco s first south china sea exploratory well flows barrels of oil daily amoco s first south china sea exploratory well flows barrels of oil daily',\n",
       "   'u s energy chief rules out gasoline tax as way to avert pending oil crisis u s energy chief rules out gasoline tax as way to avert pending oil crisis',\n",
       "   'treasury s baker says reagan unlikely to alter opposition to oil import fee treasury s baker says reagan unlikely to alter opposition to oil import fee',\n",
       "   'texaco canada cuts crude prices canadian cts bbl par grade to canadian dlrs texaco canada cuts crude prices canadian cts bbl par grade to canadian dlrs',\n",
       "   'marathon raises crude posted prices cts a bbl effective today wti at dlrs bbl marathon raises crude posted prices cts a bbl effective today wti at dlrs bbl',\n",
       "   'shell canada cuts crude oil prices by up to canadian dlrs bbl effective march one shell canada cuts crude oil prices by up to canadian dlrs bbl effective march one',\n",
       "   'diamond shamrock raises crude posted prices one dlr effective march wti now dlrs bbl diamond shamrock raises crude posted prices one dlr effective march wti now dlrs bbl',\n",
       "   'hamilton oil lt haml says reserves rise hamilton oil corp said reserves end mln barrels oil billion cubic feet natural gas mln barrels equivalent mln equivalent barrels year',\n",
       "   'gotaas larsen lt gotlf to build fifth carrier gotaas larsen shipping corp said exercised option build fifth series crude oil carriers constructed lt daewoo shipbuilding heavy machinery ltd south korea',\n",
       "   'diamond shamrock lt dia raises crude postings diamond shamrock said raised contract price pay crude oil cts barrel effective today the increase brings company posted price benchmark grade west texas intermediate dlrs bbl diamond shamrock last changed postings march',\n",
       "   'trico lt tro gets chinese contract trico industries inc said received six mln dlr contract supply hydraulic lift equipment heavy crude oil production chinese ministry petroleum industry the company said equipment use laiohe oilfield miles northeast peking equip well program',\n",
       "   'occidental lt oxy in big peru heavy oil find occidental petroleum corp said shiviyacu development well block ab peruvian amazon jungle producing barrels degree gravity oil per day depths feet the company said drilling new exploration well block southeast shiviyacu miles away',\n",
       "   'texaco canada lt txc lowers crude postings texaco canada said lowered contract price pay crude oil canadian cts barrel effective today the decrease brings company posted price benchmark grade edmonton swann hills light sweet canadian dlrs bbl texaco canada last changed crude oil postings feb',\n",
       "   'api reports sharp fall in drillings estimated oil gas drilling completions united states dropped almost per cent american petroleum institute said api industry group said wells completed last year total oil wells natural gas wells dry holes in total wells drilled oil wells gas wells dry holes',\n",
       "   'shell canada lt shc raised crude oil postings shell canada wholly owned subsidiary royal dutch shell group lt rd said raised crude oil prices canadian cts barrel today the increase riased posted price light sweet crude oil dlrs barrel march one level light sour crudes raised dlrs barrel company said',\n",
       "   'argentine oil production down in january argentine crude oil production pct january mln barrels mln barrels january yacimientos petroliferos fiscales said january natural gas output totalled billion cubic metrers pct higher billion cubic metres produced january yacimientos petroliferos fiscales added',\n",
       "   'sun lt sun raises crude postings cts sun co said raised contract price pay crude oil cts barrel effective today the increase brings sun posted price west texas intermediate west texas sour grades dlrs bbl the light louisiana sweet grade also raised cts dlrs bbl sun co last changed crude postings march',\n",
       "   'weather closes alexandria port sumed oil terminal strong winds high seas forced closure egypt main port alexandria nearby oil terminal port officials said tanker loading suez mediterranean arab petroleum pipelines co sedi kerir southwest stopped officials said five tankers anchorage awaiting improved weather',\n",
       "   'amoco reports south china sea oil find the u s lt amoco petroleum corp reported offshore oil find pearl river basin concession south china sea new china news agency said it said liu hua a well produced around barrels per day depth metres the news agency said amoco plans drill second well area year gave details',\n",
       "   'permian lt pbt raises crude prices permian corp said effective march raised posted prices crude oil cts barrel the raise brought posted prices west texas intermediate cts dlrs barrel west texas sour also raised cts dlrs barrel a permian spokesman said south louisiana sweet posted prices also raised cts barrel dlrs',\n",
       "   'usx lt x unit to raise most crude postings usx subsidiary marathon petroleum co said raise contract prices eleven grades crude oil cts barrel effective tomorrow the increase brings marathon posted price west texas intermediate west texas sour grades dlrs barrel the light louisiana grade also raised cts dlrs barrel',\n",
       "   'usx lt x unit raises some crude postings marathon petroleum company subsidiary usx corp lt x said raised contract price pays three grades crude oil effective march illinois sweet indiana sweet raised cts barrel dlrs bbl southern michigan grade raised cts bbl also dlrs bbl the west texas intermediate grade unchanged',\n",
       "   'saudi supertanker reported hit by iran off uae iran attacked saudi arabian supertanker arabian sea united arab emirates last night vessel able proceed incident lloyds shipping intelligence reported the dwt arabian sea set sail tuesday loading oil saudi port ras tannurah lloyds said attack occurred hrs local time gmt',\n",
       "   'marathon petroleum reduces crude postings marathon petroleum co said reduced contract price pay grades crude oil one dlr barrel effective today the decrease brings marathon posted price west texas intermediate west texas sour dlrs bbl the south louisiana sweet grade crude reduced dlrs bbl the company last changed crude postings jan',\n",
       "   'iranian oil minister due in algeria on friday iranian oil minister gholamreza aqazadeh expected friday talks algerian counterpart belkacem nabi official algerian news agency aps said today aqazadeh accompanied large delegation talks bilateral relations field energy exchange views algerian officials current world energy situation said',\n",
       "   'petrobras sees raising export of fuel in brazil state oil company petrobras pledging export mln cubic meters fuel mln barrels company spokesman said he said represents total sale worth mln dlrs the volume pct higher sales totalled mln cubic meters mln barrels the united states africa latin american brazil main fuel buyers spokesman said',\n",
       "   'iraq turkey oil pipeline cut by landslide turkey oil pipeline near southern town adana cut landslide hurriyet anatolian news agencies said little oil lost landslide friday night taps one mln bpd line switched accident said the pipeline carries oil turkey customers iraq kirkuk field yumurtalik terminal turkish mediterranean coast iraq main oil outlet',\n",
       "   'diamond shamrock lt dia raises crude oil postings diamond shamrock said raised posted prices grades crude oil one dlr barrel effective yesterday the one dlr increase brings west texas intermediate wti u s benchmark crude dlrs bbl company said diamond shamrock joined sun co coastal citgo murphy oil raising crude oil posted prices one dlr barrel yesterday',\n",
       "   'explosion at bp oil refinery in scotland an explosion followed fire ripped british petroleum bp oil refinery killing one man a bp spokesman said fire confined one plant acre refinery grangemouth miles west edinburgh the cause extent damage yet determined two people killed previous explosion fire plant march that incident still investigated spokesman said',\n",
       "   'powerine refinery to resume operations lt powerine oil co said refinery resume operation today initial crude oil runs barrels per day powerine privately held company said expects refinery become fully operational may crude oil throughput bpd initial oil products deliveries scheduled monday powerine said the refinery closed due change ownership company said',\n",
       "   'np energy lt npeeq says trustee appointed np energy corp said u s bankruptcy court indicated appoint trustee oversee company chapter bankruptcy proceedings it said hopes appointment thwart hostile actions pursued two unsecured creditors whose claims company objects np said nielsen well duchesne county utah tested barrels oil per day np owns pct working interest',\n",
       "   'texas petroleum acquires oil and gas properties texas petroleum corp said issued mln shares restricted common stock exchange oil gas properties joint ventures located u s overseas the properties acquired lt north american oil gas corp texas petroleum corp canada company said it added acquisitions first step toward creating oil gas exploration development enterprise',\n",
       "   'bad weather closes alexandria port oil terminal strong winds high seas today closed alexandria egypt biggest port oil pipeline terminal nearby officials said facilities suez mediterranean arab petroleum pipelines company sidi kreir km southeast alexandria closed morning one tanker loaded sailed officials said five tankers waiting outside terminal conditions improve',\n",
       "   'canterra energy to drill well off nova scotia lt canterra energy ltd said drill exploratory well scotian shelf kilometers east southeast halifax nova scotia drilling begin late april meters water drilled total depth meters canterra said canterra operate well pct interest lt petro canada inc pct lt trillium exploration corp pct lt nova scotia resources ventures ltd pct',\n",
       "   'sterling in texas gas and oil discovery lt sterling investment group said successfully drilled completed significant development well miles southwest houston texas the well choke inch feet deep the well initially tested maximum daily flow rate two mln cubic feet gas barrels condensate participants new well along sterling trafalgar house ltd u k lt texstar north america inc',\n",
       "   'phillips lt p raises crude postings cts phillips petroleum said raised contract price grades crude oil cts barrel effective today the increase brings phillip posted price west texas intermediate west texas sour grades dlrs bbl phillips last changed crude oil postings march the price increase follows similar moves usx lt x subsidiary marathon oil sun co lt sun earlier today',\n",
       "   'southland lt slc unit raises crude prices southland corp citgo petrleum corp said raised contract price pay grades crude oil one dlr barrel effective today the increase brings citgo posted price west texas intermediate dlrs bbl west texas sour also priced dlrs bbl light louisiana south posted dlrs bbl on february citgo lowered crude postings cts dlrs per bbl cut wti one dlr',\n",
       "   'unocal lt ucl unit cuts crude oil posted prices unocal corp union oil co said lowered posted prices crude oil one dlrs barrel eastern region u s effective feb union said dlrs cut brings posted price u s benchmark grade west texas intermediate dlrs louisiana sweet also lowered dlrs dlrs company said no changes made union posted prices west coast grades crude oil company said',\n",
       "   'ice unchanged at soviet oil port of ventspils ice conditions unchanged soviet baltic oil port ventspils continuous compacted drift ice cms thick latest report finnish board navigation said icebreaker assistance reach ventspils harbour needed normal steel vessels without special reinforcement ice report said it gave details ice conditions major soviet baltic export harbour klaipeda',\n",
       "   'orbit increases oil and gas reserve values lt orbit oil gas ltd said value oil gas reserves increased pct mln dlrs mln dlrs reported year end according independent appraisal orbit said reserves mln barrels oil natural gas liquids billion cubic feet natural gas in addition pct owned lt sienna resources ltd canadian reserves barrels oil bcf natural gas current value mln dlrs orbit said',\n",
       "   'pemex lowers february far east crude oil prices the mexican state oil company petroleos mexicanos pemex said far east customers would charged dlrs per barrel isthmus crude february dlrs heavier maya pemex said cts less january isthmus cts less january maya far east customers primarily japan buys average barrels per day isthmus pay retroactively european u s clients charged per delivery',\n",
       "   'iran said to attack cypriot tanker a cypriot tanker set ablaze persian gulf yesterday iranian gunboat fired missiles shipping sources quoting reports japanese tankers said today no casualties seen tanker pivot laden crude oil towed towards dubai tugs put fire sources said iranian gunboats usually check ship nationality cargo attacking pivot hit near bu musa island without warning added',\n",
       "   'san juan basin lt sjt proven reserves fall the san juan basin royalty trust said proved reserves december estimated thousand cubic feet gas barrels oil in year ago period said proved reserves estimated thousand cubic feet gas barrels oil it said present value future net revenues discounted pct mln dlrs compared mln dlrs year ago period it also said net infill wells economical drill december prices',\n",
       "   'mobil plans to open office in peking mobil oil corp u s plans open office peking develop oil exploration opportunities china china daily said it quoted mobil president richard tucker currently peking saying optimistic investment prospects china peking continue encourage foreign private businesses invest it said mobil bought mln dlrs crude oil oil products china sold lubricant fertiliser gave details',\n",
       "   'southland lt slc unit raises crude postings southland corp citgo petroleum corp said raised contract price pay crude oil cts barrel effective today the increase bring citgo posted price west texas intermediate west texas sour grades dlrs barrel the light louisiana sweet south onshore grade also raised cts dlrs barrel light louisiana sweet north increased dlrs barrel citgo last changed postings march four',\n",
       "   'diamond shamrock dia cuts crude prices diamond shamrock corp said effective today cut contract prices crude oil dlrs barrel the reduction brings posted price west texas intermediate dlrs barrel copany said the price reduction today made light falling oil product prices weak crude oil market company spokeswoman said diamond latest line u s oil companies cut contract posted prices last two days citing weak oil markets',\n",
       "   'mobil plan to open peking office china daily says mobil corp lt mob n u s plans open office peking develop oil exploration opportunities china china daily said it quoted mobil president richard tucker currently peking saying optimistic investment prospects china peking continue encourage foreign private businesses invest it said mobil bought mln dlrs crude oil oil products china sold lubricant fertiliser gave details'],\n",
       "  'earn': ['planters corp lt pnbt st qtr net shr cts vs cts net vs',\n",
       "   'ccr video st qtr nov net shr cts vs nil net vs sales vs',\n",
       "   'explosive fabricators inc st qtr jan net net vs revs vs',\n",
       "   'stephan co lt ftc year net shr cts vs cts net vs revs vs',\n",
       "   'gencorp st qtr shr cts vs cts gencorp st qtr shr cts vs cts',\n",
       "   'seal inc lt sinc st qtr jan net shr cts vs cts net vs sales vs',\n",
       "   'lt dryclean usa year net shr cts vs cts net vs revs mln vs mln',\n",
       "   'lt chauvco resources ltd year net shr cts vs cts net vs revs vs',\n",
       "   'dionics inc lt dion year net shr seven cts vs cts net vs revs vs',\n",
       "   'lt sensormatic canada ltd year net shr cts vs cts net vs revs vs',\n",
       "   'zayre corp th qtr shr cts vs cts zayre corp th qtr shr cts vs cts',\n",
       "   'gkn pretax profit mln stg vs mln gkn pretax profit mln stg vs mln',\n",
       "   'gelco corp nd qtr shr cts vs cts gelco corp nd qtr shr cts vs cts',\n",
       "   'lt summit resources ltd year net shr given net vs revs mln vs mln',\n",
       "   'echlin inc nd qtr shr cts vs cts echlin inc nd qtr shr cts vs cts',\n",
       "   'humana inc nd qtr shr cts vs cts humana inc nd qtr shr cts vs cts',\n",
       "   'lt r l crain inc th qtr net shr cts vs cts net vs sales mln vs mln',\n",
       "   'burst agritech inc lt brzt year nov loss net loss vs loss sales vs',\n",
       "   'sis corp lt sisb year net shr one ct vs nil net vs revs mln vs mln',\n",
       "   'viatech inc lt vtk year net shr dlrs vs cts net vs revs mln vs mln',\n",
       "   'interco inc th qtr shr cts vs cts interco inc th qtr shr cts vs cts',\n",
       "   'hubco inc lt hco st qtr net shr cts vs cts net vs assets mln vs mln',\n",
       "   'lt cooper canada ltd year net shr cts vs cts net vs revs mln vs mln',\n",
       "   'conagra inc rd qtr shr cts vs cts conagra inc rd qtr shr cts vs cts',\n",
       "   'southern home savings bank lt shsb year net shr dlrs vs dlrs net vs',\n",
       "   'lt wajax ltd year net shr cts vs dlrs net mln vs mln revs mln vs mln',\n",
       "   'hyponex corp lt hypx year net shr cts vs dlrs net vs revs mln vs mln',\n",
       "   'science dynamics corp lt sidy year net shr cts vs cts net vs revs vs',\n",
       "   'northview corp lt novc year net shr cts vs cts net vs revs mln vs mln',\n",
       "   'h j heinz co rd qtr shr cts vs cts h j heinz co rd qtr shr cts vs cts',\n",
       "   'lt cimarron petroleum ltd nine mths net shr cts vs cts net vs revs vs',\n",
       "   'pillsbury co rd qtr shr cts vs cts pillsbury co rd qtr shr cts vs cts',\n",
       "   'cra ltd net profit mln dlrs vs mln cra ltd net profit mln dlrs vs mln',\n",
       "   'u s shoe inc th qtr shr cts vs cts u s shoe inc th qtr shr cts vs cts',\n",
       "   'pyro energy corp lt btu year net shr cts vs cts net vs revs mln vs mln',\n",
       "   'lt autrex inc st qtr january net shr one cts vs two cts net vs revs vs',\n",
       "   'lt paloma petroleum ltd year net shr cts vs cts net vs revs mln vs mln',\n",
       "   'tokheim corp lt tok st qtr feb net shr cts vs cts net vs rev mln vs mln',\n",
       "   'photronics corp lt phot year feb net shr cts vs cts net vs sales mln vs',\n",
       "   'lt goldome fsb year net net mln vs mln note company mutual savings bank',\n",
       "   'lt pembina resources ltd year net shr cts vs cts net vs revs mln vs mln',\n",
       "   'lt canadian foremost ltd year net shr cts vs cts net vs revs mln vs mln',\n",
       "   'lt cabre exploration ltd six mths jan net shr cts vs cts net vs revs vs',\n",
       "   'lt altex resources ltd year net shr six cts vs eight cts net vs revs vs',\n",
       "   'glamis gold ltd lt glgvf six mths dec net shr cts vs cts net vs revs vs',\n",
       "   'club med inc lt cmi st qtr jan net shr cts vs cts net vs revs mln vs mln',\n",
       "   'data architects inc lt drch st qtr feb net shr cts vs cts net vs revs vs',\n",
       "   'grease monkey holding corp lt gmhc year nov shr nil vs nil net vs revs vs',\n",
       "   'tektronix inc rd qtr shr ctws vs cts tektronix inc rd qtr shr ctws vs cts',\n",
       "   'lt bii enterprises inc year nov net shr cts vs cts net vs revs mln vs mln',\n",
       "   'lt far west industries inc year net shr cts vs cts net vs revs mln vs mln',\n",
       "   'eaton vance corp lt eavn st qtr jan net shr cts vs cts net vs avg shrs vs',\n",
       "   'fbx corp lt fbxc year nov net shr cts vs three cts net vs revs mln vs mln',\n",
       "   'lt tridel enterprises inc year net shr dlrs vs cts net vs revs mln vs mln',\n",
       "   'seagram co ltd year shr dlrs vs dlrs seagram co ltd year shr dlrs vs dlrs',\n",
       "   'p and o pretax profit mln stg vs mln p and o pretax profit mln stg vs mln',\n",
       "   'lt innopac inc six mths february net shr cts vs cts net vs revs mln vs mln',\n",
       "   'servo corp of america lt sca st qtr jan net shr cts vs cts net vs sales vs',\n",
       "   'sanford corp lt sanf st qtr feb net shr cts vs cts net vs sales mln vs mln',\n",
       "   'avery lt avy st qtr feb net shr cts vs cts net mln vs mln sales mln vs mln',\n",
       "   'aw computer systems inc lt awcsa year end dec shr cts vs cts net vs revs vs',\n",
       "   'mobile america corp lt mame year end dec shr dlrs vs dlr net vs revs mln vs',\n",
       "   'tempo enterprises inc lt tpo year net shr cts vs cts net vs revs mln vs mln',\n",
       "   'lt signtech inc nine mths jan net shr cts vs cts net mln vs revs mln vs mln',\n",
       "   'brown group inc th qtr shr cts vs cts brown group inc th qtr shr cts vs cts',\n",
       "   'gencorp lt gy st qtr feb net shr cts vs cts net mln vs mln sales mln vs mln',\n",
       "   'rospatch to respond to diagnostic bid rospatch to respond to diagnostic bid',\n",
       "   'jim walter corp nd qtr shr cts vs cts jim walter corp nd qtr shr cts vs cts',\n",
       "   'h b fuller co lt full st qtr feb net shr cts vs cts net vs sales mln vs mln',\n",
       "   'juno lighting inc lt juno st qtr feb net shr cts vs cts net vs sales mln vs',\n",
       "   'us west lt usw hikes dividend qtly div cts vs cts prior pay may record april',\n",
       "   'lt general leaseholds ltd year net shr cts vs cts net vs revs vs avg shrs vs',\n",
       "   'kiddie products inc lt kidd year net shr dlrs vs dlrs net vs revs mln vs mln',\n",
       "   'ameron inc lt amn qtly dividend shr cts vs cts prior qtr pay may record april',\n",
       "   'cambior inc five mths dec net shr cts vs given net vs given revs mln vs given',\n",
       "   'american can sees higher st qtr yr net american can sees higher st qtr yr net',\n",
       "   'passport travel inc lt ppti st qtr feb net shr two cts vs nil net vs sales vs',\n",
       "   'ocean bio chem inc lt obci year net shr eight cts vs seven cts net vs sales vs',\n",
       "   'lt consolidated pipe lines co year net shr dlrs vs dlrs net vs revs mln vs mln',\n",
       "   'dunkin donuts inc lt dunk st qtr jan net shr cts vs cts net vs revs mln vs mln',\n",
       "   'photronic labs inc lt plab st qtr jan net shr cts vs seven cts net vs sales vs',\n",
       "   'geo a hormel and co lt hrl qtly div cts vs cts previously pay may record april',\n",
       "   'bic corp lt bic sets quarterly qtly div cts vs cts prior pay april record april',\n",
       "   'itt corp lt itt declares dividend qtly div cts vs cts prior pay july record may',\n",
       "   'ultramar net loss mln stg vs mln profit ultramar net loss mln stg vs mln profit',\n",
       "   'perini corp lt pcr sets quarterly qtly div cts vs cts prior pay june record may',\n",
       "   'k mart corp th qtr shr dlrs vs nine cts k mart corp th qtr shr dlrs vs nine cts',\n",
       "   'general mills inc rd qtr shr cts vs cts general mills inc rd qtr shr cts vs cts',\n",
       "   'city national corp lt ctyn raises dividend shr cts vs cts pay april record march',\n",
       "   'camco inc lt cam sets quarterly qtly div cts vs cts prior pay april record march',\n",
       "   'medtronic inc lt mdt sets payout qtly dividend cts vs cts pay april record april',\n",
       "   'schwab safe co lt ss ups payout qtly div cts vs cts prior pay april record march',\n",
       "   'colgate palmolive co lt cl sets payout qtrly div cts vs cts pay may record april',\n",
       "   'cabot medical corp lt cbot st qtr jan net shr four cts vs two cts net vs revs vs',\n",
       "   'data systems inc lt toot st qtr jan net shr three cts vs four cts net vs revs vs',\n",
       "   'lt temco service industries inc st qtr dec shr cts vs cts net vs revs mln vs mln',\n",
       "   'lt great pacific industries inc year net shr dlrs vs dlrs net vs revs mln vs mln',\n",
       "   'tonka corp lt tka raises dividend qtly div two cts vs cts pay march record march',\n",
       "   'mikron instrument co lt mikr st qtr jan shr three cts vs four cts net vs revs vs',\n",
       "   'harsco corp lt hsc sets regular payout qtrly div cts vs cts pay may record april',\n",
       "   'harsco corp lt hsc sets quarterly qtly div cts vs cts prior pay may record april',\n",
       "   'nichols institute lt lab st qtr feb net shr two cts vs one ct net vs revs mln vs',\n",
       "   'dean foods co lt df raises dividend qtly div cts vs cts prior pay june record may',\n",
       "   'lt poco petroleums ltd st qtr jan net shr eight cts vs cts net vs revs mln vs mln',\n",
       "   'noland co lt nold sets quarterly qtly div cts vs cts prior pay april record april',\n",
       "   'lt douglas computer international year end shr seven cts vs one ct net vs revs vs',\n",
       "   'milton roy co lt mrc sets quarterly qtly div cts vs cts prior pay june record may',\n",
       "   'lt mirtone international inc st qtr dec net shr two cts vs two cts net vs revs vs',\n",
       "   'lt domco industries ltd st qtr jan net shr four cts vs cts net vs revs mln vs mln',\n",
       "   'times mirror co lt tmc quarterly dividend qtly div cts vs cts pay june record may',\n",
       "   'f w woolworth co th qtr shr dlrs vs dlrs f w woolworth co th qtr shr dlrs vs dlrs',\n",
       "   'bowl america inc lt bwla ups payout qtly div cts vs cts prior pay may record april',\n",
       "   'p c quote inc lt pcqt year loss shr loss cts vs loss cts net loss vs loss sales vs',\n",
       "   'lt guillevin international inc year jan net shr cts vs cts net vs sales mln vs mln',\n",
       "   'lt douglas computer international year net shr seven cts vs one ct net vs sales vs',\n",
       "   'lt dexleigh corp six mths dec net shr four cts vs three cts net vs revs mln vs mln',\n",
       "   'total systems services lt tsys st qtr net shr nine cts vs seven cts net vs revs vs',\n",
       "   'perry drug stores inc lt pds st qtr jan net shr cts vs cts net vs sales mln vs mln',\n",
       "   'donegal group inc lt dgic year net shr six cts net revs note company formed august',\n",
       "   'mem co inc lt mem declares qtly div qtly div cts vs cts prior pay may record march',\n",
       "   'lt canadian gypsum co ltd year net shr dlrs vs dlrs net mln vs mln revs mln vs mln',\n",
       "   'westronic inc lt wstx year loss shr loss dlr vs loss dlrs net loss vs loss revs vs',\n",
       "   'mccormick and co inc lt mccrk st qtr feb net shr cts vs cts net vs revs mln vs mln',\n",
       "   'di giorgio corp lt dig qtly dividend shr cts vs cts prior qtr pay may record april',\n",
       "   'first valley corp lt fivc regular dividend qtly div cts payable april record march',\n",
       "   'information solutions inc lt isol st qtr jan shr two cts vs six cts net vs revs vs',\n",
       "   'petrolite corp lt plit sets payout qtly dividend cts vs cts pay april record april',\n",
       "   'house of fabrics lt hf quarterly dividend qtly div cts vs cts pay july record june',\n",
       "   'raytheon co lt rtn sets quarterly qtly div cts vs cts prior pay april record april',\n",
       "   'lt tiverton petroleums ltd nine mths dec net shr six cts vs five cts net vs revs vs',\n",
       "   'wal mart stores inc th qtr shr cts vs cts wal mart stores inc th qtr shr cts vs cts',\n",
       "   'inter city gas corp th qtr shr cts vs cts inter city gas corp th qtr shr cts vs cts',\n",
       "   'handleman co lt hdl sets quarterly qtly div cts vs cts prior pay april record march',\n",
       "   'whittaker corp st qtr oper shr cts vs cts whittaker corp st qtr oper shr cts vs cts',\n",
       "   'idaho power co lt ida sets quarterly qtly div cts vs cts prior pay may record april',\n",
       "   'health mor inc lt hmi sets dividend qtly dividend cts vs cts pay april record march',\n",
       "   'mccormick and co inc lt mccrk st qtr net qtr ends feb shr cts vs cts net vs revs vs',\n",
       "   'augat inc lt aug sets quarterly dividend qtly div cts vs cts pay april record april',\n",
       "   'britoil plc pre tax profit mln stg vs mln britoil plc pre tax profit mln stg vs mln',\n",
       "   'albertson s inc lt abs raises qtly dividend shr cts vs cts pay may record may eight',\n",
       "   'parkway co lt pkwy sets quarterly qtly div cts vs cts prior pay may record may four',\n",
       "   'lt st clair paint and wallpaper corp year net shr cts vs cts net vs revs mln vs mln',\n",
       "   'lowe s cos inc lt low qtly div qtly div cts vs cts prior payable april record april',\n",
       "   'advanced computer techniques lt actp year net shr cts vs cts net vs revs mln vs mln',\n",
       "   'federal co lt fff sets regular payout qtly cts vs cts prior payable june record may',\n",
       "   'varity corp year shr loss cts vs loss cts varity corp year shr loss cts vs loss cts',\n",
       "   'hunt manufacturing co lt hun sets payout qtrly div cts vs cts pay april record april',\n",
       "   'stanley works lt swk sets quarterly qtly div cts vs cts prior pay march record march',\n",
       "   'e systems lt esy sets qtrly payout qtrly div cts vs cts prior pay april record march',\n",
       "   'medtronic inc lt mdt sets quarterly qtly div cts vs cts prior pay april record april',\n",
       "   'van dorn co lt vdc sets quarterly qtly div cts vs cts prior pay may one record april',\n",
       "   'the chubb corp lt cb sets qtrly payout qtrly cts vs cts prior pay april record march']}}"
      ]
     },
     "execution_count": 151,
     "metadata": {},
     "output_type": "execute_result"
    }
   ],
   "source": [
    "loaded"
   ]
  },
  {
   "cell_type": "code",
   "execution_count": null,
   "metadata": {
    "collapsed": true
   },
   "outputs": [],
   "source": []
  }
 ],
 "metadata": {
  "kernelspec": {
   "display_name": "Python 3",
   "language": "python",
   "name": "python3"
  },
  "language_info": {
   "codemirror_mode": {
    "name": "ipython",
    "version": 3
   },
   "file_extension": ".py",
   "mimetype": "text/x-python",
   "name": "python",
   "nbconvert_exporter": "python",
   "pygments_lexer": "ipython3",
   "version": "3.5.1"
  }
 },
 "nbformat": 4,
 "nbformat_minor": 0
}
