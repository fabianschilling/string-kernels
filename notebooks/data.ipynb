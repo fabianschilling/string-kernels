{
 "cells": [
  {
   "cell_type": "code",
   "execution_count": 2,
   "metadata": {
    "collapsed": false
   },
   "outputs": [],
   "source": [
    "import numpy as np\n",
    "import re\n",
    "import cPickle as pickle\n",
    "from nltk.corpus import reuters, stopwords"
   ]
  },
  {
   "cell_type": "code",
   "execution_count": 2,
   "metadata": {
    "collapsed": true
   },
   "outputs": [],
   "source": [
    "TRAIN = 'train'\n",
    "TEST = 'test'\n",
    "SPLITS = [TRAIN, TEST]"
   ]
  },
  {
   "cell_type": "code",
   "execution_count": 3,
   "metadata": {
    "collapsed": true
   },
   "outputs": [],
   "source": [
    "ACQ = 'acq'\n",
    "CORN = 'corn'\n",
    "CRUDE = 'crude'\n",
    "EARN = 'earn'\n",
    "CLASSES = [ACQ, CORN, CRUDE, EARN]"
   ]
  },
  {
   "cell_type": "code",
   "execution_count": 4,
   "metadata": {
    "collapsed": true
   },
   "outputs": [],
   "source": [
    "sizes = {\n",
    "    TRAIN: {\n",
    "        EARN: 152,\n",
    "        ACQ: 114,\n",
    "        CRUDE: 76,\n",
    "        CORN: 38\n",
    "    },\n",
    "    TEST: {\n",
    "        EARN: 40,\n",
    "        ACQ: 25,\n",
    "        CRUDE: 15,\n",
    "        CORN: 10\n",
    "    }\n",
    "}"
   ]
  },
  {
   "cell_type": "code",
   "execution_count": 48,
   "metadata": {
    "collapsed": false
   },
   "outputs": [],
   "source": [
    "total = 152 + 114 + 76 + 38 + 40 + 25 + 15 + 10"
   ]
  },
  {
   "cell_type": "code",
   "execution_count": 58,
   "metadata": {
    "collapsed": true
   },
   "outputs": [],
   "source": [
    "earn_num = 152 + 40\n",
    "acq_num = 114 + 25"
   ]
  },
  {
   "cell_type": "code",
   "execution_count": 57,
   "metadata": {
    "collapsed": false
   },
   "outputs": [
    {
     "data": {
      "text/plain": [
       "0.4085106382978723"
      ]
     },
     "execution_count": 57,
     "metadata": {},
     "output_type": "execute_result"
    }
   ],
   "source": [
    "earn_num / float(total)"
   ]
  },
  {
   "cell_type": "code",
   "execution_count": 59,
   "metadata": {
    "collapsed": false
   },
   "outputs": [
    {
     "data": {
      "text/plain": [
       "0.2957446808510638"
      ]
     },
     "execution_count": 59,
     "metadata": {},
     "output_type": "execute_result"
    }
   ],
   "source": [
    "acq_num / float(total)"
   ]
  },
  {
   "cell_type": "code",
   "execution_count": 53,
   "metadata": {
    "collapsed": false
   },
   "outputs": [
    {
     "data": {
      "text/plain": [
       "0.10212765957446808"
      ]
     },
     "execution_count": 53,
     "metadata": {},
     "output_type": "execute_result"
    }
   ],
   "source": [
    "(38 + 10) / float(total)"
   ]
  },
  {
   "cell_type": "code",
   "execution_count": 5,
   "metadata": {
    "collapsed": true
   },
   "outputs": [],
   "source": [
    "labels = {\n",
    "    ACQ: 0,\n",
    "    CORN: 1,\n",
    "    CRUDE: 2,\n",
    "    EARN: 3,\n",
    "}"
   ]
  },
  {
   "cell_type": "code",
   "execution_count": 6,
   "metadata": {
    "collapsed": false
   },
   "outputs": [],
   "source": [
    "def clean(doc):\n",
    "    doc = re.sub('[^a-zA-Z]', ' ', doc)\n",
    "    doc = re.sub(' +', ' ', doc)\n",
    "    doc = ' '.join([w for w in doc.split() if w not in stopwords.words('english')])\n",
    "    return doc.lower().strip()"
   ]
  },
  {
   "cell_type": "code",
   "execution_count": 7,
   "metadata": {
    "collapsed": false
   },
   "outputs": [
    {
     "name": "stdout",
     "output_type": "stream",
     "text": [
      "('train', 'acq', 114)\n",
      "('train', 'corn', 38)\n",
      "('train', 'crude', 76)\n",
      "('train', 'earn', 152)\n",
      "('test', 'acq', 25)\n",
      "('test', 'corn', 10)\n",
      "('test', 'crude', 15)\n",
      "('test', 'earn', 40)\n"
     ]
    }
   ],
   "source": [
    "data = {}\n",
    "for split in SPLITS:\n",
    "    data[split] = []\n",
    "    for cls in CLASSES:\n",
    "        file_list = [clean(reuters.raw(d)) for d in reuters.fileids(cls) if d.startswith(split)]\n",
    "        # disregard documents that are too short\n",
    "        long_list = [d for d in file_list if len(d) > 15]\n",
    "        # sort remaining documents by length\n",
    "        #sort_list = sorted(long_list, key=len)\n",
    "        # split off however many we need\n",
    "        final_list = long_list[:sizes[split][cls]]\n",
    "        for doc in final_list:\n",
    "            data[split].append((doc, cls))\n",
    "        print(split, cls, len(final_list))"
   ]
  },
  {
   "cell_type": "code",
   "execution_count": 8,
   "metadata": {
    "collapsed": false
   },
   "outputs": [],
   "source": [
    "pickle.dump(data, open('reuters.pkl', 'wb'))"
   ]
  },
  {
   "cell_type": "code",
   "execution_count": 71,
   "metadata": {
    "collapsed": false
   },
   "outputs": [],
   "source": [
    "ds = pickle.load(open('../dataset/reuters.pkl', 'rb'))"
   ]
  },
  {
   "cell_type": "code",
   "execution_count": 74,
   "metadata": {
    "collapsed": false
   },
   "outputs": [
    {
     "data": {
      "text/plain": [
       "(u'computer terminal systems lt cpml completes sale computer terminal systems inc said completed sale shares common stock warrants acquire additional one mln shares lt sedio n v lugano switzerland dlrs the company said warrants exercisable five years purchase price dlrs per share computer terminal said sedio also right buy additional shares increase total holdings pct computer terminal outstanding common stock certain circumstances involving change control company the company said conditions occur warrants would exercisable price equal pct common stock market price time exceed dlrs per share computer terminal also said sold technolgy rights dot matrix impact technology including future improvements lt woodco inc houston tex dlrs but said would continue exclusive worldwide licensee technology woodco the company said moves part reorganization plan would help pay current operation costs ensure product delivery computer terminal makes computer generated labels forms tags ticket printers terminals',\n",
       " 'acq')"
      ]
     },
     "execution_count": 74,
     "metadata": {},
     "output_type": "execute_result"
    }
   ],
   "source": [
    "ds['train'][0]"
   ]
  },
  {
   "cell_type": "code",
   "execution_count": 76,
   "metadata": {
    "collapsed": false
   },
   "outputs": [
    {
     "data": {
      "text/plain": [
       "(u'sumitomo bank aims at quick recovery from merger sumitomo bank ltd lt sumi t certain lose status japan profitable bank result merger heiwa sogo bank financial analysts said osaka based sumitomo desposits around trillion yen merged heiwa sogo small struggling bank estimated billion dlrs unrecoverable loans october but despite link sumitomo president koh komatsu told reuters confident bank quickly regain position we back position first place within three years komatsu said interview he said merger initially reduce sumitomo profitability efficiency vastly expand sumitomo branch network tokyo metropolitan area relatively weak but financial analysts divided whether quickly gamble pay some said sumitomo may paid much heiwa sogo view smaller bank large debts others argue merger cost effective creating comparable branch network scratch the analysts agreed bank aggressive it expanded overseas entered lucrative securities business geared domestic competition questioned wisdom moves they made bold moves put everything place now largely hands said kleinwort benson ltd financial analyst simon smithson among sumitomo problems limits placed move enter u s securities business taking share american investment bank goldman sachs co sumitomo last august agreed pay mln dlrs pct limited partnership bank time least federal reserve board forbidden exchange personnel increase business the tie widely looked lame duck fed stricter sumitomo expected said one analyst but komatsu said move pay time u s regulations change near future various things we wait two three years st century komatsu said komatsu also willing patient possible routes securities business home article securities exchange act japan version u s glass steagall act separates commercial investment banking but walls two crumbling komatsu said hopes deregulation create new opportunities we need find new business chances komatsu said in cases securities related cases trust bank related that kind deregulation want until changes occur sumitomo focus domestic securities business profitable government bond dealing strengthening relations meiko securities co ltd holds five pct share komatsu said he said sumitomo cautiously optimistic entering securities business swiss universal bank subsidiary banca del gottardo the finance ministry expected grant licences securities subsidiaries u s commercial banks soon following similar decision subsidiaries european universal banks parent holds less pct but komatsu reluctant push hard similar decision gottardo subsidiary we want make waves we expect allowed two three years said like city banks sumitomo also pushing expand lending individuals small medium businesses replace disappearing demand big business added the analysts said sumitomo devote lot time digesting recent initiatives including merger ailing heiwa sogo it sumitomo bold strategies said kleinwort smithson after question absorbing juggling around it next decade see strategy right wrong',\n",
       " 'acq')"
      ]
     },
     "execution_count": 76,
     "metadata": {},
     "output_type": "execute_result"
    }
   ],
   "source": [
    "ds['test'][0]"
   ]
  },
  {
   "cell_type": "code",
   "execution_count": 81,
   "metadata": {
    "collapsed": false
   },
   "outputs": [
    {
     "name": "stdout",
     "output_type": "stream",
     "text": [
      "prob\n",
      "(u'mexican first qtr crude exports seen at dlrs the average price mexico crude oil exports first quarter dlrs per barrel according preliminary figures issued press release state oil company petroleos mexicanos pemex it gave direct comparison year ago figure said crude products sales expected rise billion dlrs quarter mln dlrs higher expected pct better year ago quarter prospects second quarter relatively favourable crude exports seen mln bpd expected mln month february mln january', 'crude')\n",
      "(u'mexican first qtr crude exports seen at dlrs the average price mexico crude oil exports first quarter dlrs per barrel according preliminary figures issued press release state oil company petroleos mexicanos pemex it gave direct comparison year ago figure said crude products sales expected rise billion dlrs quarter mln dlrs higher expected pct better year ago quarter prospects second quarter relatively favourable crude exports seen mln bpd expected mln month february mln january', 'crude')\n",
      "(177, 178)\n",
      "prob\n",
      "(u'mexican first qtr crude exports seen at dlrs the average price mexico crude oil exports first quarter dlrs per barrel according preliminary figures issued press release state oil company petroleos mexicanos pemex it gave direct comparison year ago figure said crude products sales expected rise billion dlrs quarter mln dlrs higher expected pct better year ago quarter prospects second quarter relatively favourable crude exports seen mln bpd expected mln month february mln january', 'crude')\n",
      "(u'mexican first qtr crude exports seen at dlrs the average price mexico crude oil exports first quarter dlrs per barrel according preliminary figures issued press release state oil company petroleos mexicanos pemex it gave direct comparison year ago figure said crude products sales expected rise billion dlrs quarter mln dlrs higher expected pct better year ago quarter prospects second quarter relatively favourable crude exports seen mln bpd expected mln month february mln january', 'crude')\n",
      "(178, 177)\n"
     ]
    }
   ],
   "source": [
    "for i, d in enumerate(ds['train']):\n",
    "    for j, f in enumerate(ds['train']):\n",
    "        if i != j and d == f:\n",
    "            print('prob')\n",
    "            print(d)\n",
    "            print(f)\n",
    "            print(i, j)\n",
    "    "
   ]
  },
  {
   "cell_type": "code",
   "execution_count": 7,
   "metadata": {
    "collapsed": false
   },
   "outputs": [
    {
     "data": {
      "text/plain": [
       "(u'national amusements again ups viacom lt via bid viacom international inc said lt national amusements inc raised value offer viacom publicly held stock the company said special committee board plans meet later today consider offer one submitted march one lt mcv holdings inc a spokeswoman unable say committee met planned yesterday viacom said national amusements arsenal holdings inc subsidiary raised amount cash offering viacom share cts dlrs value fraction share exchangeable arsenal holdings preferred included raised cts dlrs national amusements already owns pct viacom stock',\n",
       " 'acq')"
      ]
     },
     "execution_count": 7,
     "metadata": {},
     "output_type": "execute_result"
    }
   ],
   "source": [
    "ds['train'][1]"
   ]
  },
  {
   "cell_type": "code",
   "execution_count": 26,
   "metadata": {
    "collapsed": false
   },
   "outputs": [],
   "source": [
    "categories = ['acq', 'corn', 'crude', 'earn']"
   ]
  },
  {
   "cell_type": "code",
   "execution_count": 27,
   "metadata": {
    "collapsed": false
   },
   "outputs": [],
   "source": [
    "documents = {}\n",
    "for c in categories:\n",
    "    documents[c] = [reuters.raw(d) for d in reuters.fileids(c)]"
   ]
  },
  {
   "cell_type": "code",
   "execution_count": 41,
   "metadata": {
    "collapsed": false
   },
   "outputs": [
    {
     "data": {
      "text/plain": [
       "0.33142137660884163"
      ]
     },
     "execution_count": 41,
     "metadata": {},
     "output_type": "execute_result"
    }
   ],
   "source": [
    "len(documents['acq']) / float(total)"
   ]
  },
  {
   "cell_type": "code",
   "execution_count": 42,
   "metadata": {
    "collapsed": false
   },
   "outputs": [
    {
     "data": {
      "text/plain": [
       "0.03315612758813654"
      ]
     },
     "execution_count": 42,
     "metadata": {},
     "output_type": "execute_result"
    }
   ],
   "source": [
    "len(documents['corn'])  / float(total)"
   ]
  },
  {
   "cell_type": "code",
   "execution_count": 43,
   "metadata": {
    "collapsed": false
   },
   "outputs": [
    {
     "data": {
      "text/plain": [
       "0.0808617795187465"
      ]
     },
     "execution_count": 43,
     "metadata": {},
     "output_type": "execute_result"
    }
   ],
   "source": [
    "len(documents['crude'])  / float(total)"
   ]
  },
  {
   "cell_type": "code",
   "execution_count": 44,
   "metadata": {
    "collapsed": false
   },
   "outputs": [
    {
     "data": {
      "text/plain": [
       "0.5545607162842753"
      ]
     },
     "execution_count": 44,
     "metadata": {},
     "output_type": "execute_result"
    }
   ],
   "source": [
    "len(documents['earn'])  / float(total)"
   ]
  },
  {
   "cell_type": "code",
   "execution_count": 34,
   "metadata": {
    "collapsed": false
   },
   "outputs": [],
   "source": [
    "total = sum([len(documents[c]) for c in categories])"
   ]
  },
  {
   "cell_type": "code",
   "execution_count": 40,
   "metadata": {
    "collapsed": false
   },
   "outputs": [
    {
     "data": {
      "text/plain": [
       "7148"
      ]
     },
     "execution_count": 40,
     "metadata": {},
     "output_type": "execute_result"
    }
   ],
   "source": [
    "total"
   ]
  },
  {
   "cell_type": "code",
   "execution_count": 67,
   "metadata": {
    "collapsed": false
   },
   "outputs": [],
   "source": [
    "flat_docs = documents.values()[0] + documents.values()[1] + documents.values()[2] + documents.values()[3]"
   ]
  },
  {
   "cell_type": "code",
   "execution_count": 68,
   "metadata": {
    "collapsed": false
   },
   "outputs": [
    {
     "data": {
      "text/plain": [
       "7148"
      ]
     },
     "execution_count": 68,
     "metadata": {},
     "output_type": "execute_result"
    }
   ],
   "source": [
    "len(flat_docs)"
   ]
  },
  {
   "cell_type": "code",
   "execution_count": 70,
   "metadata": {
    "collapsed": false
   },
   "outputs": [
    {
     "name": "stdout",
     "output_type": "stream",
     "text": [
      "problem\n",
      "problem\n",
      "problem\n",
      "problem\n",
      "problem\n",
      "problem\n",
      "problem\n",
      "problem\n",
      "problem\n",
      "problem\n",
      "problem\n",
      "problem\n",
      "problem\n",
      "problem\n",
      "problem\n",
      "problem\n",
      "problem\n",
      "problem\n",
      "problem\n",
      "problem\n",
      "problem\n",
      "problem\n",
      "problem\n",
      "problem\n",
      "problem\n",
      "problem\n",
      "problem\n",
      "problem\n",
      "problem\n",
      "problem\n",
      "problem\n",
      "problem\n",
      "problem\n",
      "problem\n",
      "problem\n",
      "problem\n",
      "problem\n",
      "problem\n",
      "problem\n",
      "problem\n",
      "problem\n",
      "problem\n",
      "problem\n",
      "problem\n",
      "problem\n",
      "problem\n",
      "problem\n",
      "problem\n",
      "problem\n",
      "problem\n",
      "problem\n",
      "problem\n",
      "problem\n",
      "problem\n",
      "problem\n",
      "problem\n",
      "problem\n",
      "problem\n",
      "problem\n",
      "problem\n",
      "problem\n",
      "problem\n",
      "problem\n",
      "problem\n",
      "problem\n",
      "problem\n",
      "problem\n",
      "problem\n",
      "problem\n",
      "problem\n",
      "problem\n",
      "problem\n"
     ]
    },
    {
     "ename": "KeyboardInterrupt",
     "evalue": "",
     "output_type": "error",
     "traceback": [
      "\u001b[0;31m---------------------------------------------------------------------------\u001b[0m",
      "\u001b[0;31mKeyboardInterrupt\u001b[0m                         Traceback (most recent call last)",
      "\u001b[0;32m<ipython-input-70-afe4ffda98f0>\u001b[0m in \u001b[0;36m<module>\u001b[0;34m()\u001b[0m\n\u001b[1;32m      1\u001b[0m \u001b[0;32mfor\u001b[0m \u001b[0mi\u001b[0m\u001b[0;34m,\u001b[0m \u001b[0md1\u001b[0m \u001b[0;32min\u001b[0m \u001b[0menumerate\u001b[0m\u001b[0;34m(\u001b[0m\u001b[0mflat_docs\u001b[0m\u001b[0;34m)\u001b[0m\u001b[0;34m:\u001b[0m\u001b[0;34m\u001b[0m\u001b[0m\n\u001b[1;32m      2\u001b[0m     \u001b[0;32mfor\u001b[0m \u001b[0mj\u001b[0m\u001b[0;34m,\u001b[0m \u001b[0md2\u001b[0m \u001b[0;32min\u001b[0m \u001b[0menumerate\u001b[0m\u001b[0;34m(\u001b[0m\u001b[0mflat_docs\u001b[0m\u001b[0;34m)\u001b[0m\u001b[0;34m:\u001b[0m\u001b[0;34m\u001b[0m\u001b[0m\n\u001b[0;32m----> 3\u001b[0;31m         \u001b[0;32mif\u001b[0m \u001b[0mi\u001b[0m \u001b[0;34m!=\u001b[0m \u001b[0mj\u001b[0m \u001b[0;32mand\u001b[0m \u001b[0md1\u001b[0m \u001b[0;34m==\u001b[0m \u001b[0md2\u001b[0m\u001b[0;34m:\u001b[0m\u001b[0;34m\u001b[0m\u001b[0m\n\u001b[0m\u001b[1;32m      4\u001b[0m             \u001b[0;32mprint\u001b[0m\u001b[0;34m(\u001b[0m\u001b[0;34m'problem'\u001b[0m\u001b[0;34m)\u001b[0m\u001b[0;34m\u001b[0m\u001b[0m\n\u001b[1;32m      5\u001b[0m \u001b[0;34m\u001b[0m\u001b[0m\n",
      "\u001b[0;31mKeyboardInterrupt\u001b[0m: "
     ]
    }
   ],
   "source": [
    "for i, d1 in enumerate(flat_docs):\n",
    "    for j, d2 in enumerate(flat_docs):\n",
    "        if i != j and d1 == d2:\n",
    "            print('problem')\n",
    "                \n",
    "    "
   ]
  },
  {
   "cell_type": "code",
   "execution_count": null,
   "metadata": {
    "collapsed": true
   },
   "outputs": [],
   "source": []
  }
 ],
 "metadata": {
  "kernelspec": {
   "display_name": "Python 2",
   "language": "python",
   "name": "python2"
  },
  "language_info": {
   "codemirror_mode": {
    "name": "ipython",
    "version": 2
   },
   "file_extension": ".py",
   "mimetype": "text/x-python",
   "name": "python",
   "nbconvert_exporter": "python",
   "pygments_lexer": "ipython2",
   "version": "2.7.13"
  }
 },
 "nbformat": 4,
 "nbformat_minor": 0
}
