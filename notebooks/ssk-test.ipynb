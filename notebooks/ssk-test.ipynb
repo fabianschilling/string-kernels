{
 "cells": [
  {
   "cell_type": "code",
   "execution_count": 273,
   "metadata": {
    "collapsed": true
   },
   "outputs": [],
   "source": [
    "import numpy as np"
   ]
  },
  {
   "cell_type": "code",
   "execution_count": 365,
   "metadata": {
    "collapsed": true
   },
   "outputs": [],
   "source": [
    "def K(s, t, n, lam):\n",
    "    if min(len(s), len(t)) < n:\n",
    "        return 0.0\n",
    "    jsum = 0.0\n",
    "    for j in range(len(t)):\n",
    "        if t[j] == s[-1]:\n",
    "            jsum += Kp(s[:-1], t[:j], n-1, lam)\n",
    "    return K(s[:-1], t, n, lam) + lam ** 2 * jsum"
   ]
  },
  {
   "cell_type": "code",
   "execution_count": 366,
   "metadata": {
    "collapsed": true
   },
   "outputs": [],
   "source": [
    "def Kp(s, t, n, lam):\n",
    "        if n == 0:\n",
    "            return 1.0\n",
    "        if min(len(s), len(t)) < n:\n",
    "            return 0.0    \n",
    "        jsum = 0.0\n",
    "        for j in range(len(t)):\n",
    "            if t[j] == s[-1]:\n",
    "                jsum += Kp(s[:-1], t[:j], n-1, lam) * (lam ** (len(t) - (j + 1) + 2))\n",
    "        return lam * Kp(s[:-1], t, n, lam) + jsum"
   ]
  },
  {
   "cell_type": "code",
   "execution_count": 367,
   "metadata": {
    "collapsed": true
   },
   "outputs": [],
   "source": [
    "def K_norm(s, t, n=2, lam=0.5):\n",
    "    return K(s, t, n, lam) / np.sqrt(K(s, s, n, lam) * K(t, t, n, lam))"
   ]
  },
  {
   "cell_type": "code",
   "execution_count": 368,
   "metadata": {
    "collapsed": true
   },
   "outputs": [],
   "source": [
    "doc1, doc2 = 'science is organized knowledge', 'wisdom is organized life'"
   ]
  },
  {
   "cell_type": "code",
   "execution_count": 373,
   "metadata": {
    "collapsed": false
   },
   "outputs": [
    {
     "data": {
      "text/plain": [
       "0.43887050844308401"
      ]
     },
     "execution_count": 373,
     "metadata": {},
     "output_type": "execute_result"
    }
   ],
   "source": [
    "K_norm(doc1, doc2, 4, 0.5)"
   ]
  }
 ],
 "metadata": {
  "kernelspec": {
   "display_name": "Python 3",
   "language": "python",
   "name": "python3"
  },
  "language_info": {
   "codemirror_mode": {
    "name": "ipython",
    "version": 3
   },
   "file_extension": ".py",
   "mimetype": "text/x-python",
   "name": "python",
   "nbconvert_exporter": "python",
   "pygments_lexer": "ipython3",
   "version": "3.5.1"
  }
 },
 "nbformat": 4,
 "nbformat_minor": 0
}
