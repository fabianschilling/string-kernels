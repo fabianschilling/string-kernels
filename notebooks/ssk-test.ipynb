{
 "cells": [
  {
   "cell_type": "code",
   "execution_count": 1,
   "metadata": {
    "collapsed": true
   },
   "outputs": [],
   "source": [
    "import numpy as np"
   ]
  },
  {
   "cell_type": "code",
   "execution_count": 98,
   "metadata": {
    "collapsed": false
   },
   "outputs": [],
   "source": [
    "# https://github.com/shogun-toolbox/shogun/blob/270ff9200daeb273bec6c82543d82d5a275b39d3/src/shogun/kernel/string/SubsequenceStringKernel.cpp\n",
    "def ssk(doc1, doc2, n=6, lam=0.5):\n",
    "    a = list(doc1)\n",
    "    b = list(doc2)\n",
    "    Kp = np.zeros((n + 1, len(a), len(b)), dtype=np.float64)\n",
    "    Kp[0, :] = 1.0\n",
    "    for i in range(n):\n",
    "        for j in range(len(a) - 1):\n",
    "            Kpp = 0.0\n",
    "            for k in range(len(b) - 1):\n",
    "                Kpp = lam * (Kpp + lam * int(a[j] == b[k]) * Kp[i, j, k])\n",
    "                Kp[i+1, j+1, k+1] = lam * Kp[i+1, j, k+1] + Kpp\n",
    "    K = 0.0\n",
    "    for i in range(n):\n",
    "        for j in range(len(a)):\n",
    "            for k in range(len(b)):\n",
    "                K += lam * lam * int(a[j] == b[k]) * Kp[i, j, k]\n",
    "    \n",
    "    return K"
   ]
  },
  {
   "cell_type": "code",
   "execution_count": 99,
   "metadata": {
    "collapsed": false
   },
   "outputs": [],
   "source": [
    "doc1, doc2 = 'car', 'cat'"
   ]
  },
  {
   "cell_type": "code",
   "execution_count": 100,
   "metadata": {
    "collapsed": false
   },
   "outputs": [
    {
     "data": {
      "text/plain": [
       "0.62068965517241381"
      ]
     },
     "execution_count": 100,
     "metadata": {},
     "output_type": "execute_result"
    }
   ],
   "source": [
    "ssk(doc1, doc2) / np.sqrt(ssk(doc1, doc1) * ssk(doc2, doc2))"
   ]
  },
  {
   "cell_type": "code",
   "execution_count": null,
   "metadata": {
    "collapsed": true
   },
   "outputs": [],
   "source": []
  }
 ],
 "metadata": {
  "kernelspec": {
   "display_name": "Python 3",
   "language": "python",
   "name": "python3"
  },
  "language_info": {
   "codemirror_mode": {
    "name": "ipython",
    "version": 3
   },
   "file_extension": ".py",
   "mimetype": "text/x-python",
   "name": "python",
   "nbconvert_exporter": "python",
   "pygments_lexer": "ipython3",
   "version": "3.5.1"
  }
 },
 "nbformat": 4,
 "nbformat_minor": 0
}
